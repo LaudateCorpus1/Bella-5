{
 "cells": [
  {
   "cell_type": "code",
   "execution_count": 1,
   "metadata": {},
   "outputs": [
    {
     "name": "stderr",
     "output_type": "stream",
     "text": [
      "Using TensorFlow backend.\n"
     ]
    }
   ],
   "source": [
    "from pathlib import Path\n",
    "import os\n",
    "import time\n",
    "import json\n",
    "import random as rn\n",
    "\n",
    "%matplotlib inline\n",
    "import numpy as np\n",
    "import pandas as pd\n",
    "import seaborn as sns\n",
    "\n",
    "# Metrics\n",
    "from sklearn.metrics import f1_score, accuracy_score\n",
    "from sklearn.model_selection import StratifiedShuffleSplit\n",
    "from keras import initializers, optimizers\n",
    "\n",
    "from bella.data_types import TargetCollection, Target\n",
    "# Notebook helper methods\n",
    "from bella import notebook_helper\n",
    "# Models\n",
    "from bella.models.tdlstm import LSTM, TDLSTM, TCLSTM\n",
    "# Tokenisers\n",
    "from bella.tokenisers import ark_twokenize\n",
    "# Word Vectors\n",
    "from bella.word_vectors import SSWE, GloveTwitterVectors, GloveCommonCrawl\n",
    "# Get the data\n",
    "from bella.helper import read_config\n",
    "from bella.parsers import dong"
   ]
  },
  {
   "cell_type": "code",
   "execution_count": 2,
   "metadata": {},
   "outputs": [],
   "source": [
    "##\n",
    "#  ADD YOUR CONFIG FILE PATH HERE \n",
    "##\n",
    "CONFIG_FP = Path('..', 'config.yaml')\n",
    "\n",
    "results_folder = Path(read_config('results_folder', CONFIG_FP))\n",
    "results_folder = results_folder.joinpath('TDLstm')\n",
    "\n",
    "# Load the datasets\n",
    "dong_train = dong(read_config('dong_twit_train_data', CONFIG_FP))\n",
    "dong_test = dong(read_config('dong_twit_test_data', CONFIG_FP))\n",
    "\n",
    "splitter = StratifiedShuffleSplit(n_splits=1, test_size=0.2, random_state=42)\n",
    "data = np.asarray(dong_train.data_dict())\n",
    "sentiment = np.asarray(dong_train.sentiment_data())\n",
    "for train_indexs, test_indexs in splitter.split(data, sentiment):\n",
    "    train_data = data[train_indexs]\n",
    "    test_data = data[test_indexs]\n",
    "    \n",
    "convert_to_targets = lambda data: [Target(**target) for target in data]\n",
    "dong_train = TargetCollection(convert_to_targets(train_data))\n",
    "dong_val = TargetCollection(convert_to_targets(test_data))\n",
    "\n",
    "X_train = np.array(dong_train.data_dict())\n",
    "y_train = np.array(dong_train.sentiment_data())\n",
    "X_val = np.array(dong_val.data_dict())\n",
    "y_val = np.array(dong_val.sentiment_data())\n",
    "# The models do not accepts class labels that are less than 0\n",
    "sent_vals = {-1: 0, 0: 1, 1: 2}\n",
    "sent_vals_inv = {0: -1, 1: 0, 2: 1}\n",
    "y_val = np.array([sent_vals[val] for val in y_val])\n",
    "y_train = np.array([sent_vals[val] for val in y_train])\n",
    "\n",
    "X_test = dong_test.data_dict()"
   ]
  },
  {
   "cell_type": "code",
   "execution_count": 3,
   "metadata": {},
   "outputs": [],
   "source": [
    "# Get all the words from the train and test data so that we \n",
    "# can filter words from the Word Vectors so that all the \n",
    "# word vectors can be loaded into reasonable amount of memory\n",
    "train_words = dong_train.word_list(ark_twokenize)\n",
    "val_words = dong_val.word_list(ark_twokenize)\n",
    "test_words = dong_test.word_list(ark_twokenize)\n",
    "all_words = list(set(train_words + val_words + test_words))\n",
    "# Load the word vectors\n",
    "sswe = SSWE(filter_words=all_words)\n",
    "glove_50 = GloveTwitterVectors(50, filter_words=all_words)\n",
    "glove_100 = GloveTwitterVectors(100, filter_words=all_words)\n",
    "glove_200 = GloveTwitterVectors(200, filter_words=all_words)\n",
    "word_vectors = [sswe, glove_50, glove_100, glove_200]\n",
    "n_cpus = 3"
   ]
  },
  {
   "cell_type": "code",
   "execution_count": 4,
   "metadata": {},
   "outputs": [],
   "source": [
    "def evaluate_model(model_class, model_kwargs, word_vectors, result_folder, random_values):\n",
    "    for word_vector in word_vectors:\n",
    "        model = model_class(ark_twokenize, word_vector, **model_kwargs)\n",
    "        model_result_folder = result_folder.joinpath(f'{str(model)}')\n",
    "        model_result_folder.mkdir(parents=True, exist_ok=True)\n",
    "        \n",
    "        word_vector_fp = model_result_folder.joinpath(f'{str(model)} {str(word_vector)} '\n",
    "                                                      'Repeated Results.json')\n",
    "        predictions = model.evaluate_parameters(model, (X_train, y_train), (X_val, y_val), \n",
    "                                                X_test, 'reproducible', random_values, n_cpus)\n",
    "        predictions = [(random_value, prediction.tolist()) \n",
    "                       for random_value, prediction in predictions]\n",
    "        with word_vector_fp.open('w') as word_vector_file:\n",
    "            json.dump(predictions, word_vector_file)\n",
    "        \n",
    "\n",
    "uniform_init = initializers.RandomUniform(minval=-0.003, maxval=0.003)\n",
    "lstm_layer_kwargs = {'kernel_initializer' : uniform_init,\n",
    "                     'recurrent_initializer' : uniform_init,\n",
    "                     'bias_initializer' : uniform_init}\n",
    "dense_layer_kwargs = {'kernel_initializer' : uniform_init,\n",
    "                      'bias_initializer' : uniform_init}\n",
    "embedding_layer_kwargs = {'embeddings_initializer' : uniform_init}\n",
    "model_kwargs = {'lstm_layer_kwargs': lstm_layer_kwargs,\n",
    "                'dense_layer_kwargs': dense_layer_kwargs,\n",
    "                'embedding_layer_kwargs': embedding_layer_kwargs,\n",
    "                'optimiser': optimizers.SGD,\n",
    "                'optimiser_params': {'lr': 0.01}}\n"
   ]
  },
  {
   "cell_type": "markdown",
   "metadata": {},
   "source": [
    "# Testing LSTM for the effect of validation set variation\n",
    "\n",
    "In this notebook we show the effect of change in train and validation set with respect to training the 3 LSTM based models that [Tang et al.](https://www.aclweb.org/anthology/C16-1311) presented in his paper and show how close our implementation of his models come compared to the results stated in their paper. The models that they created are the following:\n",
    "\n",
    "1. **LSTM** - Standard single layered LSTM where the hidden layer output is equal to the size of the input vector dimensions e.g. if the words vectors are 50 dimensions in size then the LSTM hidden state and output is 50 dimensions.\n",
    "2. **TDLSTM** - Target Dependent LSTM. This consists of 2 LSTMs either side of the target word that the sentiment is with respect to. The Left LSTM reads words in from left to right and goes up to the last word in the target word. The right LSTM reads words right to left and goes up to the last word in the target word as well. Again the LSTM hidden state and output is the same as the dimension of the input.\n",
    "3. **TCLSTM** - Target Context LSTM is the same as the TDLSTM but the input instead of being just the word vectors it reads in and word vectors are concatenated with the vector representation of the target word. If the target word is multiple words then it is the average of those word vectors.\n",
    "\n",
    "The names of these models are direct matches to the class names that represent these models in our code base.\n",
    "\n",
    "In [Tang et al.](https://www.aclweb.org/anthology/C16-1311) paper they never state the number of Epochs that they train for and instead of guessing the number we decided to use Early Stopping to find the optimal number of Epochs to train for.\n",
    "\n",
    "However using Early Stopping comes with other drawbacks. As the dataset that they used for this paper (and all of the other datasets we look at) does not contain a validation set we have to create a train and validation set from the original training data. **We show in this notebook the effect of randomly splitting the training dataset into train and validation sets on the models result and how close we can reproduce the results of Tang et al.**\n",
    "\n",
    "**NOTE** The splitting is not quiet random we use Strattified splitting therefore keeping the dataset representative with respect to the labels.\n",
    "\n",
    "\n",
    "### Dataset used\n",
    "\n",
    "The dataset we use is the same as [Tang et al.](https://www.aclweb.org/anthology/C16-1311) used in their paper which is [Dong et al](https://aclanthology.coli.uni-saarland.de/papers/P14-2009/p14-2009) Twitter dataset which is a general domain dataset.\n",
    "\n",
    "### Word vectors used\n",
    "\n",
    "We use the same word vectors as those shown in the paper apart from the SSWE-h and SSWE-r which we could not find, the *SSWE-u* is the equivalent to *SSWE* in our code base. We got the *SSWE* word vectors from the following [code base](https://github.com/bluemonk482/tdparse) and the Gove Twitter vectors from [here](https://nlp.stanford.edu/projects/glove/). However in our code base the word vectors will download automatically and then be saved without your user directory under the directory `.Bella`\n",
    "\n",
    "### The experiment\n",
    "\n",
    "Below we run each of the 3 models 30 times with different random strattified splitting and then repeat this for each word vector. **THIS TAKES A LONG TIME** therefore we have saved all of the result and if you would like to repeat the experiments set *re_write* to True\n",
    "\n",
    "**Last Note on configurations** The pad size parameter that has to be set for each model this states how many words our LSTM model takes into accout. Setting it to -1 means that we use the length of the largest sentence (tweet) in the training set which is what was stated in the paper.\n",
    "\n",
    "#### LSTM Evaluation"
   ]
  },
  {
   "cell_type": "code",
   "execution_count": 6,
   "metadata": {},
   "outputs": [],
   "source": [
    "rn.seed(42)\n",
    "random_values = [int(rn.uniform(0, 1000)) for i in range(30)] \n",
    "evaluate_model(LSTM, model_kwargs, word_vectors, results_folder, random_values)"
   ]
  },
  {
   "cell_type": "markdown",
   "metadata": {},
   "source": [
    "#### TDLSTM Evaluation"
   ]
  },
  {
   "cell_type": "code",
   "execution_count": 11,
   "metadata": {},
   "outputs": [],
   "source": [
    "rn.seed(42)\n",
    "random_values = [int(rn.uniform(0, 1000)) for i in range(30)] \n",
    "evaluate_model(TDLSTM, model_kwargs, word_vectors, results_folder, random_values)"
   ]
  },
  {
   "cell_type": "markdown",
   "metadata": {},
   "source": [
    "#### TCLSTM Evaluation"
   ]
  },
  {
   "cell_type": "code",
   "execution_count": 12,
   "metadata": {},
   "outputs": [],
   "source": [
    "rn.seed(42)\n",
    "random_values = [int(rn.uniform(0, 1000)) for i in range(30)] \n",
    "evaluate_model(TCLSTM, model_kwargs, word_vectors, results_folder, random_values)"
   ]
  },
  {
   "cell_type": "markdown",
   "metadata": {},
   "source": [
    "## Analysis of the evaluations\n",
    "\n",
    "Now we have all of the data saved in the respective result files we shall analysis it to see how much the results vary and how close we get to the result stated in Tang et al. paper"
   ]
  },
  {
   "cell_type": "code",
   "execution_count": 84,
   "metadata": {},
   "outputs": [
    {
     "data": {
      "image/png": "[encoded data removed]",
      "text/plain": [
       "<matplotlib.figure.Figure at 0x7fb90c1084e0>"
      ]
     },
     "metadata": {},
     "output_type": "display_data"
    }
   ],
   "source": [
    "model_folder = {'lstm' : lstm_result_folder, 'tdlstm' : tdlstm_result_folder,\n",
    "                'tclstm' : tclstm_result_folder}\n",
    "model_word_vector_results = pd.DataFrame()\n",
    "\n",
    "# Original results inputted first and then add the result we found\n",
    "mean_glove_200_results = {'LSTM' : [64.7], 'TDLSTM' : [69.0], 'TCLSTM' : [69.5]}\n",
    "\n",
    "word_vector_type = []\n",
    "word_vector_results = []\n",
    "model_result = []\n",
    "word_vector_names = ['{}'.format(word_vector) for word_vector in word_vectors]\n",
    "for model, folder in model_folder.items():\n",
    "    \n",
    "    for word_vector_name in word_vector_names:\n",
    "        result_file = f'{str(model).upper()} {word_vector_name} Pad Size {pad_size} Repeated Results.json'\n",
    "        if model == 'lstm':\n",
    "            result_file = f'{str(model).upper()} {word_vector_name} Repeated Results.json'\n",
    "        result_file = os.path.join(folder, result_file)\n",
    "        results = notebook_helper.get_json_data(result_file, 'Dong Twitter')\n",
    "        num_results = len(results)\n",
    "        word_vector_results.extend(results)\n",
    "        \n",
    "        if word_vector_name == 'glove twitter 200d':\n",
    "            mean_glove_200_results[model.upper()].append(np.array(results).mean() * 100)\n",
    "        \n",
    "        if word_vector_name == 'sswe':\n",
    "            word_vector_name = 'SSWE'\n",
    "            word_vector_type.extend([word_vector_name] * num_results)\n",
    "        else:\n",
    "            word_vector_type.extend([word_vector_name.capitalize()] * num_results)\n",
    "        model_result.extend([model.upper()] * num_results)\n",
    "\n",
    "model_word_vector_results['Macro F1 Score'] = np.array(word_vector_results) * 100\n",
    "model_word_vector_results['Model'] =  model_result\n",
    "model_word_vector_results['Word Vector'] = word_vector_type\n",
    "\n",
    "#model_word_vector_results.columns = columns\n",
    "model_word_vector_results\n",
    "ax = sns.boxplot(x=\"Model\", y=\"Macro F1 Score\", hue=\"Word Vector\", \n",
    "                 data=model_word_vector_results, palette='BuGn')\n",
    "ax.figure.set_size_inches(6,3.9)\n",
    "leg = ax.legend(loc=9, bbox_to_anchor=(0.5, -0.12), ncol=2)\n",
    "ax.figure.savefig('TDLSTM dist results.png', bbox_extra_artists=(leg,), bbox_inches='tight', dpi=150)\n"
   ]
  },
  {
   "cell_type": "markdown",
   "metadata": {},
   "source": [
    "As we can see above the results vary by quiet a lot but interestingly the LSTM method performed the best which is a different result to the original paper which states that the LSTM method performs worse than all of the other models. \n",
    "\n",
    "The TCLSTM method performs better than the TDLSTM for the SSWE and the 200D Glove Twitter vectors.\n",
    "\n",
    "The order of the word vectors remains the same to the original paper when using the LSTM method. However the TD(TC)LSTM methods found the SSWE word vectors the best. We believe this could be due to the SSWE embedding having fewer OOV words than the Glove Twitter vectors even though they were originally trained on the same type of data (Twitter) they could have come from different domains. \n",
    "\n",
    "We can see all of the model tend to vary a lot and are therefore quiet suseptiable to change in training and validation splitting. However we can see that as the word vector size increase the amount the result deviate reduces. This result shows without specifying a Training and Validation split it is very difficult to reproduce the results of an experiment. Furthermore as you can see we never reach the values reported in the original paper thus leaving us in the dark on how they produced those results.\n",
    "\n",
    "### Overall results\n",
    "\n",
    "Below we show the mean values of the repeated experiments above and state these as our reported results and compared them to the original results from Tang et al paper."
   ]
  },
  {
   "cell_type": "code",
   "execution_count": 30,
   "metadata": {},
   "outputs": [
    {
     "data": {
      "text/html": [
       "<div>\n",
       "<style scoped>\n",
       "    .dataframe tbody tr th:only-of-type {\n",
       "        vertical-align: middle;\n",
       "    }\n",
       "\n",
       "    .dataframe tbody tr th {\n",
       "        vertical-align: top;\n",
       "    }\n",
       "\n",
       "    .dataframe thead th {\n",
       "        text-align: right;\n",
       "    }\n",
       "</style>\n",
       "<table border=\"1\" class=\"dataframe\">\n",
       "  <thead>\n",
       "    <tr style=\"text-align: right;\">\n",
       "      <th></th>\n",
       "      <th>LSTM</th>\n",
       "      <th>TCLSTM</th>\n",
       "      <th>TDLSTM</th>\n",
       "    </tr>\n",
       "  </thead>\n",
       "  <tbody>\n",
       "    <tr>\n",
       "      <th>Original</th>\n",
       "      <td>64.7</td>\n",
       "      <td>69.5</td>\n",
       "      <td>69.0</td>\n",
       "    </tr>\n",
       "    <tr>\n",
       "      <th>Reproduced</th>\n",
       "      <td>61.4</td>\n",
       "      <td>58.7</td>\n",
       "      <td>58.2</td>\n",
       "    </tr>\n",
       "  </tbody>\n",
       "</table>\n",
       "</div>"
      ],
      "text/plain": [
       "            LSTM  TCLSTM  TDLSTM\n",
       "Original    64.7    69.5    69.0\n",
       "Reproduced  61.4    58.7    58.2"
      ]
     },
     "execution_count": 30,
     "metadata": {},
     "output_type": "execute_result"
    }
   ],
   "source": [
    "pd.DataFrame(mean_glove_200_results, index=['Original', 'Reproduced']).round(1)"
   ]
  },
  {
   "cell_type": "markdown",
   "metadata": {},
   "source": [
    "## Error Analysis\n",
    "\n",
    "Here we are going to look at the number of Out Of Vocabularly (OOV) words the different word vectors have for the sentence text and target text for each sample in the Dong Twitter dataset. Just as a reminder that the LSTM only takes into account the sentence text and not the target text of which the sentiment is with respect to.\n",
    "\n",
    "For the Glove Twitter vectors as they were trained on the same text we look at them as a group rather than indivdually as each one would have the same result. Therefore below we are only going to compare Glove Twitter to SSWE vectors.\n",
    "\n",
    "Below are some handy functions to calculate the OOV stats"
   ]
  },
  {
   "cell_type": "code",
   "execution_count": 74,
   "metadata": {},
   "outputs": [],
   "source": [
    "def avg_target_oov(target_data, word_list, tokenizer=ark_twokenize, whole_target=False):\n",
    "    all_oov_count = []\n",
    "    target_words_list = [ark_twokenize(data['target'].lower()) for data in target_data.data()]\n",
    "    for target_words in target_words_list:\n",
    "        count = 0\n",
    "        oov_count = 0\n",
    "        for word in target_words:\n",
    "            if word not in word_list:\n",
    "                oov_count += 1\n",
    "            count += 1\n",
    "        average_oov = oov_count / count\n",
    "        if whole_target:\n",
    "            all_oov_count.append(math.ceil(average_oov))\n",
    "        else:\n",
    "            all_oov_count.append(average_oov)\n",
    "    return sum(all_oov_count) / len(all_oov_count)\n",
    "\n",
    "def average_oov(target_data, word_list, tokenizer=ark_twokenize, whole_text=False):\n",
    "    all_oov_count = []\n",
    "    words_list = [ark_twokenize(data['text'].lower()) for data in target_data.data()]\n",
    "    for words in words_list:\n",
    "        count = 0\n",
    "        oov_count = 0\n",
    "        for word in words:\n",
    "            if word not in word_list:\n",
    "                oov_count += 1\n",
    "            count += 1\n",
    "        average_oov = oov_count / count\n",
    "        if whole_text:\n",
    "            all_oov_count.append(math.ceil(average_oov))\n",
    "        else:\n",
    "            all_oov_count.append(average_oov)\n",
    "    return sum(all_oov_count) / len(all_oov_count)\n"
   ]
  },
  {
   "cell_type": "code",
   "execution_count": 75,
   "metadata": {},
   "outputs": [],
   "source": [
    "name_word_list = [('SSWE', sswe._word_list), ('Glove', glove_200._word_list)]\n",
    "train_results = pd.DataFrame(columns=['Average Target OOV', 'Target OOV', \n",
    "                                      'Average Text OOV', 'Text OOV'],\n",
    "                             index=['SSWE', 'Glove'])\n",
    "for name, word_list in name_word_list:\n",
    "    train_results['Average Target OOV'][name] = avg_target_oov(dong_train, word_list)\n",
    "    train_results['Target OOV'][name] = avg_target_oov(dong_train, word_list, whole_target=True)\n",
    "    train_results['Average Text OOV'][name] = average_oov(dong_train, word_list)\n",
    "    train_results['Text OOV'][name] = average_oov(dong_train, word_list, whole_text=True)"
   ]
  },
  {
   "cell_type": "code",
   "execution_count": 78,
   "metadata": {},
   "outputs": [
    {
     "data": {
      "text/html": [
       "<div>\n",
       "<style scoped>\n",
       "    .dataframe tbody tr th:only-of-type {\n",
       "        vertical-align: middle;\n",
       "    }\n",
       "\n",
       "    .dataframe tbody tr th {\n",
       "        vertical-align: top;\n",
       "    }\n",
       "\n",
       "    .dataframe thead th {\n",
       "        text-align: right;\n",
       "    }\n",
       "</style>\n",
       "<table border=\"1\" class=\"dataframe\">\n",
       "  <thead>\n",
       "    <tr style=\"text-align: right;\">\n",
       "      <th></th>\n",
       "      <th>Average Target OOV</th>\n",
       "      <th>Target OOV</th>\n",
       "      <th>Average Text OOV</th>\n",
       "      <th>Text OOV</th>\n",
       "    </tr>\n",
       "  </thead>\n",
       "  <tbody>\n",
       "    <tr>\n",
       "      <th>SSWE</th>\n",
       "      <td>1.15</td>\n",
       "      <td>2.06</td>\n",
       "      <td>4.24</td>\n",
       "      <td>47.81</td>\n",
       "    </tr>\n",
       "    <tr>\n",
       "      <th>Glove</th>\n",
       "      <td>1.49</td>\n",
       "      <td>2.88</td>\n",
       "      <td>9.22</td>\n",
       "      <td>78.89</td>\n",
       "    </tr>\n",
       "  </tbody>\n",
       "</table>\n",
       "</div>"
      ],
      "text/plain": [
       "       Average Target OOV  Target OOV  Average Text OOV  Text OOV\n",
       "SSWE                 1.15        2.06              4.24     47.81\n",
       "Glove                1.49        2.88              9.22     78.89"
      ]
     },
     "execution_count": 78,
     "metadata": {},
     "output_type": "execute_result"
    }
   ],
   "source": [
    "rounded_train_results = (train_results * 100).astype(float).round(2)\n",
    "rounded_train_results"
   ]
  },
  {
   "cell_type": "code",
   "execution_count": 79,
   "metadata": {},
   "outputs": [],
   "source": [
    "name_word_list = [('SSWE', sswe._word_list), ('Glove', glove_200._word_list)]\n",
    "test_results = pd.DataFrame(columns=['Average Target OOV', 'Target OOV', \n",
    "                                     'Average Text OOV', 'Text OOV'],\n",
    "                            index=['SSWE', 'Glove'])\n",
    "for name, word_list in name_word_list:\n",
    "    test_results['Average Target OOV'][name] = avg_target_oov(dong_test, word_list)\n",
    "    test_results['Target OOV'][name] = avg_target_oov(dong_test, word_list, whole_target=True)\n",
    "    test_results['Average Text OOV'][name] = average_oov(dong_test, word_list)\n",
    "    test_results['Text OOV'][name] = average_oov(dong_test, word_list, whole_text=True)"
   ]
  },
  {
   "cell_type": "code",
   "execution_count": 81,
   "metadata": {},
   "outputs": [
    {
     "data": {
      "text/html": [
       "<div>\n",
       "<style scoped>\n",
       "    .dataframe tbody tr th:only-of-type {\n",
       "        vertical-align: middle;\n",
       "    }\n",
       "\n",
       "    .dataframe tbody tr th {\n",
       "        vertical-align: top;\n",
       "    }\n",
       "\n",
       "    .dataframe thead th {\n",
       "        text-align: right;\n",
       "    }\n",
       "</style>\n",
       "<table border=\"1\" class=\"dataframe\">\n",
       "  <thead>\n",
       "    <tr style=\"text-align: right;\">\n",
       "      <th></th>\n",
       "      <th>Average Target OOV</th>\n",
       "      <th>Target OOV</th>\n",
       "      <th>Average Text OOV</th>\n",
       "      <th>Text OOV</th>\n",
       "    </tr>\n",
       "  </thead>\n",
       "  <tbody>\n",
       "    <tr>\n",
       "      <th>SSWE</th>\n",
       "      <td>1.13</td>\n",
       "      <td>2.02</td>\n",
       "      <td>4.25</td>\n",
       "      <td>46.97</td>\n",
       "    </tr>\n",
       "    <tr>\n",
       "      <th>Glove</th>\n",
       "      <td>2.02</td>\n",
       "      <td>3.76</td>\n",
       "      <td>9.02</td>\n",
       "      <td>78.76</td>\n",
       "    </tr>\n",
       "  </tbody>\n",
       "</table>\n",
       "</div>"
      ],
      "text/plain": [
       "       Average Target OOV  Target OOV  Average Text OOV  Text OOV\n",
       "SSWE                 1.13        2.02              4.25     46.97\n",
       "Glove                2.02        3.76              9.02     78.76"
      ]
     },
     "execution_count": 81,
     "metadata": {},
     "output_type": "execute_result"
    }
   ],
   "source": [
    "rounded_test_results = (test_results * 100).astype(float).round(2)\n",
    "rounded_test_results"
   ]
  },
  {
   "cell_type": "markdown",
   "metadata": {},
   "source": [
    "As we can see above the number of OOV words in the SSWE is far fewer than the Glove vectors, espically for the number of texts that have no OOV words at all. However from what we can see from the result it would appear that the TCLSTM and TDLSTM require as few OOV words in the Target text as possible to make them work better than a sentence level classifier."
   ]
  },
  {
   "cell_type": "code",
   "execution_count": null,
   "metadata": {},
   "outputs": [],
   "source": []
  }
 ],
 "metadata": {
  "kernelspec": {
   "display_name": "Python 3",
   "language": "python",
   "name": "python3"
  },
  "language_info": {
   "codemirror_mode": {
    "name": "ipython",
    "version": 3
   },
   "file_extension": ".py",
   "mimetype": "text/x-python",
   "name": "python",
   "nbconvert_exporter": "python",
   "pygments_lexer": "ipython3",
   "version": "3.6.0"
  }
 },
 "nbformat": 4,
 "nbformat_minor": 2
}
