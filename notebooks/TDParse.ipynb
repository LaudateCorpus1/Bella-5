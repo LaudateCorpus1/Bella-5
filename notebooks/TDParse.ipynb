{
 "cells": [
  {
   "cell_type": "code",
   "execution_count": 2,
   "metadata": {},
   "outputs": [
    {
     "name": "stderr",
     "output_type": "stream",
     "text": [
      "Using TensorFlow backend.\n"
     ]
    }
   ],
   "source": [
    "from collections import defaultdict\n",
    "from multiprocessing.pool import Pool\n",
    "import json\n",
    "import math\n",
    "from typing import Callable, List, Union, Tuple, Dict, Any\n",
    "\n",
    "from pathlib import Path\n",
    "import pandas as pd\n",
    "import numpy as np\n",
    "from sklearn.metrics import accuracy_score, f1_score\n",
    "from sklearn.model_selection import GridSearchCV, StratifiedKFold\n",
    "import matplotlib as mpl\n",
    "%matplotlib inline  \n",
    "import seaborn as sns\n",
    "\n",
    "# Models\n",
    "from bella.models.tdparse import TDParseMinus, TDParse, TDParsePlus\n",
    "from bella.models.base import SKLearnModel\n",
    "# Word Vector methods\n",
    "from bella.word_vectors import VoVectors, SSWE\n",
    "from bella.helper import read_config\n",
    "# Sentiment lexicons\n",
    "from bella import lexicons\n",
    "# Get the data\n",
    "from bella.parsers import dong, election\n",
    "# Tokenisers\n",
    "from bella.tokenisers import ark_twokenize, stanford\n",
    "# Dependency parsers\n",
    "from bella import dependency_parsers"
   ]
  },
  {
   "cell_type": "code",
   "execution_count": 4,
   "metadata": {},
   "outputs": [],
   "source": [
    "def all_words(tokeniser: Callable[[str], List[str]], \n",
    "              *datasets) -> List[str]:\n",
    "    words = []\n",
    "    for dataset in datasets:\n",
    "        words.extend(dataset.word_list(tokeniser))\n",
    "    return list(set(words))    "
   ]
  },
  {
   "cell_type": "code",
   "execution_count": 5,
   "metadata": {},
   "outputs": [],
   "source": [
    "##\n",
    "#  ADD YOUR CONFIG FILE PATH HERE \n",
    "##\n",
    "CONFIG_FP = Path('..', 'config.yaml')\n",
    "\n",
    "# Load the training data\n",
    "dong_train = dong(read_config('dong_twit_train_data', CONFIG_FP))\n",
    "dong_test = dong(read_config('dong_twit_test_data', CONFIG_FP))\n",
    "X_dong_train, X_dong_test = dong_train.data(), dong_test.data()\n",
    "y_dong_train, y_dong_test = dong_train.sentiment_data(),\\\n",
    "                            dong_test.sentiment_data()\n",
    "election_train, election_test =\\\n",
    "election(read_config('election_folder_dir', CONFIG_FP))\n",
    "X_elec_train, X_elec_test = election_train.data(), election_test.data()\n",
    "y_elec_train, y_elec_test = election_train.sentiment_data(),\\\n",
    "                            election_test.sentiment_data()\n",
    "# Get word vectors\n",
    "# To reduce the number of vectors we load we only load\n",
    "# the words that are within the train and test set\n",
    "# which is still as fair in practice as loading the whole\n",
    "# word vectors\n",
    "dong_all_words = all_words(ark_twokenize, dong_train, dong_test)\n",
    "elec_all_words = all_words(ark_twokenize, election_train, election_test)\n",
    "dong_w2v = VoVectors(filter_words=dong_all_words)\n",
    "dong_sswe = SSWE(filter_words=dong_all_words)\n",
    "elec_w2v = VoVectors(filter_words=elec_all_words)\n",
    "elec_sswe = SSWE(filter_words=elec_all_words)\n",
    "\n",
    "# Getting the sentiment lexicons\n",
    "hu_liu_fp = Path(read_config('hu_liu_lexicon', CONFIG_FP))\n",
    "mpqa_fp = Path(read_config('mpqa_lexicon', CONFIG_FP))\n",
    "nrc_fp = Path(read_config('nrc_emotion_lexicon', CONFIG_FP))\n",
    "\n",
    "subset_cats = {'positive', 'negative'}\n",
    "mpqa_low = lexicons.Mpqa(mpqa_fp, subset_cats=subset_cats, lower=True)\n",
    "nrc_low = lexicons.NRC(nrc_fp, subset_cats=subset_cats, lower=True)\n",
    "hu_liu_low = lexicons.HuLiu(hu_liu_fp, subset_cats=subset_cats, lower=True)\n",
    "mpqa_huliu_low = lexicons.Lexicon.combine_lexicons(mpqa_low, hu_liu_low)\n",
    "all_three_low = lexicons.Lexicon.combine_lexicons(mpqa_huliu_low, nrc_low)\n",
    "###\n",
    "#    Set here the number of cpus to use for all of the\n",
    "#    grid searching\n",
    "###\n",
    "\n",
    "n_cpus = 7\n",
    "\n",
    "results_folder = Path(read_config('results_folder', CONFIG_FP))\n",
    "results_folder = results_folder.joinpath('TDParse')\n",
    "results_folder.mkdir(parents=True, exist_ok=True)"
   ]
  },
  {
   "cell_type": "markdown",
   "metadata": {},
   "source": [
    "# TDParse models\n",
    "This notebook shows how to use the TDParse models and comparing the results of our implementation to the one in the original [paper](https://aclanthology.coli.uni-saarland.de/papers/E17-1046/e17-1046)\n",
    "\n",
    "The paper had 4 different models however we have implemented 3 of them as the fourth **TDParse+ (m)** we have incorporated the same target multi appearence solution into all of the impleneted models therefore **TDParse+ (m)** is now redudant as it equals **TDParse+** in our models. The reason we did this was that we did not know which target appearence they used e.g. if there was three apearance of the same target did they use the first, second and last appearence? this is the reason why the authors created the multi appearence solution, however they did not describe how they implmented the models they did not use the multi appearence solution.\n",
    "\n",
    "Models:\n",
    "1. **TDParse-** -- This only used the syntactic connected words of the target word as context.\n",
    "2. **TDParse** -- This used the syntactic connected words, left, right and target context.\n",
    "3. **TDParse+** -- This used the same as **TDParse** but had two more contexts left and right sentiment contexts which filtered out words that are not in the sentiment lexicons.\n",
    "\n",
    "The above models correspond to the following classes in our implementation:\n",
    "1. [TDParseMinus](../tdparse/models/tdparse.py), 2. [TDParse](../tdparse/models/tdparse.py), 3. [TDParsePlus](../tdparse/models/tdparse.py)\n",
    "\n",
    "The results reported are based on training and testing on the datasets of [Dong et al.](https://aclanthology.coli.uni-saarland.de/papers/P14-2009/p14-2009) and their own Election Twitter dataset which can be found [here](https://figshare.com/articles/EACL_2017_-_Multi-target_UK_election_Twitter_sentiment_corpus/4479563/1) as reported in the paper.\n",
    "\n",
    "The notebook is going to show the results of the original paper using our implementation. We are then going to look at the affects of lower casing and scaling with respect to those results as these parts of the implementation were not mentioned in the original paper but we show the importance of these implementation details.\n",
    "\n",
    "# Original Paper results\n",
    "For each of the datasets we require to find the C-value for the Support Vector Machine (SVM) as this was not reported in the paper but is an important hyper-parameter to tune for. Therefore the start of each dataset we are going to find the Best C value for each of the models keeping everything else constant. The defualt tokeniser is the [Ark tokeniser](http://ttic.uchicago.edu/~kgimpel/papers/gimpel+etal.acl11.pdf) of which we use this python port of the [tokeniser](https://github.com/Sentimentron/ark-twokenize-py). Also we default to lower casing all tokens as well. For the sentiment lexicon method **TDParse+** we use the following lexicons:\n",
    "1. [MPQA](http://mpqa.cs.pitt.edu/lexicons/subj_lexicon/), 2. [NRC](http://saifmohammad.com/WebPages/NRC-Emotion-Lexicon.htm), and 3. [Hu & Liu](https://www.cs.uic.edu/~liub/FBS/sentiment-analysis.html#lexicon)\n",
    "\n",
    "**NOTE** In the original paper they adopted approaches from *Vo and Zhang 2015* and have used the same pre-trained embeddings, pooling functions and tunned the C value over the same set of parameter values. However they did not state if they were going to use the same tokeniser *Ark tokeniser* or the same set of lexicons. However they did release their code which can be found [here](https://github.com/bluemonk482/tdparse) which shows that they do use the *Ark tokeniser* and the lexicons stated above which were the full set of lexicons in *Vo and Zhang 2015*.\n",
    "\n",
    "## Best C value Dong et al. Dataset\n",
    "\n",
    "We store the results of the C values as finding C values can take a long time > 3 hours using 5 processors and ~8GB of RAM. This is due to the fact we have to dependency parse each time we train and test as we do not cache pre-processing data."
   ]
  },
  {
   "cell_type": "code",
   "execution_count": 6,
   "metadata": {},
   "outputs": [],
   "source": [
    "# Models\n",
    "models = [TDParseMinus, TDParse, TDParsePlus]"
   ]
  },
  {
   "cell_type": "code",
   "execution_count": 8,
   "metadata": {},
   "outputs": [
    {
     "data": {
      "text/plain": [
       "{'TDParse Minus': '0.03125',\n",
       " 'TDParse': '0.0078125',\n",
       " 'TDParsePlus': '0.0078125'}"
      ]
     },
     "execution_count": 8,
     "metadata": {},
     "output_type": "execute_result"
    }
   ],
   "source": [
    "# Getting the best C Value for the Dong Twitter dataset\n",
    "c_values = [1] # include the default sklearn C Value\n",
    "for c in range(-15, 3, 2):\n",
    "    c_values.append(math.pow(2, c))\n",
    "    \n",
    "dong_best_c_fp = results_folder.joinpath('Dong Twitter Best C.json')\n",
    "dong_best_c = None\n",
    "# See if we have already got the result\n",
    "if dong_best_c_fp.is_file():\n",
    "    with dong_best_c_fp.open('r') as dong_best_c_file:\n",
    "        dong_best_c = json.load(dong_best_c_file)\n",
    "# If we have not we have to run each of the three models and then\n",
    "# save the result\n",
    "if dong_best_c is None:\n",
    "    model_kwargs = []\n",
    "    for model in models:\n",
    "        kwargs = {'word_vectors': [[dong_w2v, dong_sswe]],\n",
    "                  'parser': [dependency_parsers.tweebo]}\n",
    "        if model == TDParsePlus:\n",
    "            kwargs['senti_lexicon'] = [all_three_low]\n",
    "        model_kwargs.append((model, kwargs))\n",
    "    dong_best_c = SKLearnModel.models_best_parameter(model_kwargs,'C', c_values, \n",
    "                                                     X_dong_train, y_dong_train, \n",
    "                                                     n_cpus)\n",
    "    dong_best_c = {model.name(): c for model, c in dong_best_c.items()}\n",
    "    with dong_best_c_fp.open('w+') as dong_best_c_file:\n",
    "        json.dump(dong_best_c, dong_best_c_file)\n",
    "dong_best_c"
   ]
  },
  {
   "cell_type": "markdown",
   "metadata": {},
   "source": [
    "## Best C value Elections dataset"
   ]
  },
  {
   "cell_type": "code",
   "execution_count": 14,
   "metadata": {},
   "outputs": [
    {
     "data": {
      "text/plain": [
       "{'TDParse Minus': '0.0078125',\n",
       " 'TDParse': '0.001953125',\n",
       " 'TDParsePlus': '0.001953125'}"
      ]
     },
     "execution_count": 14,
     "metadata": {},
     "output_type": "execute_result"
    }
   ],
   "source": [
    "# Getting the best C Value for the Election Twitter dataset\n",
    "c_values = [1] # include the default sklearn C Value\n",
    "for c in range(-15, 3, 2):\n",
    "    c_values.append(math.pow(2, c))\n",
    "    \n",
    "elec_best_c_fp = results_folder.joinpath('Election Twitter Best C.json')\n",
    "elec_best_c = None\n",
    "# See if we have already got the result\n",
    "if elec_best_c_fp.is_file():\n",
    "    with elec_best_c_fp.open('r') as elec_best_c_file:\n",
    "        elec_best_c = json.load(elec_best_c_file)\n",
    "# If we have not we have to run each of the three models and then\n",
    "# save the result\n",
    "if elec_best_c is None:\n",
    "    model_kwargs = []\n",
    "    for model in models:\n",
    "        kwargs = {'word_vectors': [[elec_w2v, elec_sswe]],\n",
    "                  'parser': [dependency_parsers.tweebo]}\n",
    "        if model == TDParsePlus:\n",
    "            kwargs['senti_lexicon'] = [all_three_low]\n",
    "        model_kwargs.append((model, kwargs))\n",
    "    elec_best_c = SKLearnModel.models_best_parameter(model_kwargs,'C', c_values, \n",
    "                                                     X_elec_train, y_elec_train, \n",
    "                                                     n_cpus)\n",
    "    elec_best_c = {model.name(): c for model, c in elec_best_c.items()}\n",
    "    with elec_best_c_fp.open('w+') as elec_best_c_file:\n",
    "        json.dump(elec_best_c, elec_best_c_file)\n",
    "elec_best_c"
   ]
  },
  {
   "cell_type": "markdown",
   "metadata": {},
   "source": [
    "### Accuracy and Macro F1 scores on the Datasets\n",
    "\n",
    "Below trains and tests on the two datasets and then displays the results comparing to the original results stated in the paper\n",
    "**NOTE** Takes around 23 minutes to run on 3 processors and no more than 3-5 GB of RAM to reduce the amount of RAM use fewer processors in the Pool Instances."
   ]
  },
  {
   "cell_type": "code",
   "execution_count": 28,
   "metadata": {},
   "outputs": [
    {
     "name": "stdout",
     "output_type": "stream",
     "text": [
      "TDParse Minus, ({'TDParse Minus': '0.03125', 'TDParse': '0.0078125', 'TDParsePlus': '0.0078125'}, [w2v, sswe])\n",
      "0.03125\n",
      "TDParse, ({'TDParse Minus': '0.03125', 'TDParse': '0.0078125', 'TDParsePlus': '0.0078125'}, [w2v, sswe])\n",
      "0.0078125\n",
      "TDParsePlus, ({'TDParse Minus': '0.03125', 'TDParse': '0.0078125', 'TDParsePlus': '0.0078125'}, [w2v, sswe])\n",
      "0.0078125\n",
      "defaultdict(<function <lambda> at 0x7f6f43e3e488>, {'Dong Twitter': {'TDParse Minus': 0.58795142054996008}})\n",
      "defaultdict(<function <lambda> at 0x7f6f43e3e488>, {'Dong Twitter': {'TDParse Minus': 0.58795142054996008, 'TDParse': 0.66889543640346805}})\n",
      "defaultdict(<function <lambda> at 0x7f6f43e3e488>, {'Dong Twitter': {'TDParse Minus': 0.58795142054996008, 'TDParse': 0.66889543640346805, 'TDParsePlus': 0.68103783201584822}})\n",
      "TDParse Minus, ({'TDParse Minus': '0.0078125', 'TDParse': '0.001953125', 'TDParsePlus': '0.001953125'}, [w2v, sswe])\n",
      "0.0078125\n",
      "TDParse, ({'TDParse Minus': '0.0078125', 'TDParse': '0.001953125', 'TDParsePlus': '0.001953125'}, [w2v, sswe])\n",
      "0.001953125\n",
      "TDParsePlus, ({'TDParse Minus': '0.0078125', 'TDParse': '0.001953125', 'TDParsePlus': '0.001953125'}, [w2v, sswe])\n",
      "0.001953125\n",
      "defaultdict(<function <lambda> at 0x7f6f43e3e488>, {'Dong Twitter': {'TDParse Minus': 0.58795142054996008, 'TDParse': 0.66889543640346805, 'TDParsePlus': 0.68103783201584822}, 'Election Twitter': {'TDParse Minus': 0.37272079176784317}})\n",
      "defaultdict(<function <lambda> at 0x7f6f43e3e488>, {'Dong Twitter': {'TDParse Minus': 0.58795142054996008, 'TDParse': 0.66889543640346805, 'TDParsePlus': 0.68103783201584822}, 'Election Twitter': {'TDParse Minus': 0.37272079176784317, 'TDParse': 0.39269531150895132}})\n",
      "defaultdict(<function <lambda> at 0x7f6f43e3e488>, {'Dong Twitter': {'TDParse Minus': 0.58795142054996008, 'TDParse': 0.66889543640346805, 'TDParsePlus': 0.68103783201584822}, 'Election Twitter': {'TDParse Minus': 0.37272079176784317, 'TDParse': 0.39269531150895132, 'TDParsePlus': 0.41698121910543984}})\n",
      "1390.3772494792938\n"
     ]
    }
   ],
   "source": [
    "def model_eval(model, X_train, y_train, X_test, y_test):\n",
    "    model.fit(X_train, y_train)\n",
    "    predictions = model.predict(X_test)\n",
    "    acc = accuracy_score(y_test, predictions)\n",
    "    f1 = f1_score(y_test, predictions, average='macro')\n",
    "    return acc, f1\n",
    "\n",
    "\n",
    "dataset_model_acc = defaultdict(lambda: dict())\n",
    "dataset_model_f1 = defaultdict(lambda: dict())\n",
    "\n",
    "dong_params = (dong_best_c, [dong_w2v, dong_sswe])\n",
    "elec_params = (elec_best_c, [elec_w2v, elec_sswe])\n",
    "dataset_data_params = {'Dong Twitter': ((dong_train, dong_test), dong_params),\n",
    "                       'Election Twitter': ((election_train, election_test), elec_params)}\n",
    "for dataset_name, data_params in dataset_data_params.items():\n",
    "    data, params = data_params\n",
    "    train, test = data\n",
    "    X_train, y_train = train.data(), train.sentiment_data()\n",
    "    X_test, y_test = test.data(), test.sentiment_data()\n",
    "    \n",
    "    c_values, dataset_word_embeddings = params\n",
    "    model_instances_params = []\n",
    "    for model in models:\n",
    "        best_c = float(c_values[model.name()])\n",
    "        if model == TDParsePlus:\n",
    "            model_instance = model(dataset_word_embeddings,\n",
    "                                   dependency_parsers.tweebo,\n",
    "                                   C=best_c,\n",
    "                                   senti_lexicon = all_three_low)\n",
    "        else:\n",
    "            model_instance = model(dataset_word_embeddings, \n",
    "                                   dependency_parsers.tweebo,\n",
    "                                   C=best_c)\n",
    "        func_params = (X_train, y_train, X_test, y_test) \n",
    "        model_instances_params.append((model_instance, *func_params))\n",
    "    with Pool(3) as pool:\n",
    "        model_acc_f1 = pool.starmap(model_eval, model_instances_params)\n",
    "    for i, model in enumerate(models):\n",
    "        acc, f1 = model_acc_f1[i]\n",
    "        dataset_model_acc[dataset_name][model.name()] = acc\n",
    "        dataset_model_f1[dataset_name][model.name()] = f1"
   ]
  },
  {
   "cell_type": "markdown",
   "metadata": {},
   "source": [
    "We are now going to add the scores from the paper."
   ]
  },
  {
   "cell_type": "code",
   "execution_count": 41,
   "metadata": {},
   "outputs": [],
   "source": [
    "paper_acc = {'Election Twitter (Paper)': {'TDParse Minus': 0.5253,\n",
    "                                          'TDParse': 0.5645,\n",
    "                                          'TDParsePlus': 0},\n",
    "             'Dong Twitter (Paper)': {'TDParse Minus': 0.6170,\n",
    "                                      'TDParse': 0.7100,\n",
    "                                      'TDParsePlus': 0.7250}}\n",
    "paper_f1 = {'Election Twitter (Paper)': {'TDParse Minus': 0.4271,\n",
    "                                          'TDParse': 0.4609,\n",
    "                                          'TDParsePlus': 0},\n",
    "             'Dong Twitter (Paper)': {'TDParse Minus': 0.5700,\n",
    "                                      'TDParse': 0.6840,\n",
    "                                      'TDParsePlus': 0.7030}}"
   ]
  },
  {
   "cell_type": "markdown",
   "metadata": {},
   "source": [
    "#### Macro F1"
   ]
  },
  {
   "cell_type": "code",
   "execution_count": 42,
   "metadata": {},
   "outputs": [
    {
     "data": {
      "text/html": [
       "<div>\n",
       "<style scoped>\n",
       "    .dataframe tbody tr th:only-of-type {\n",
       "        vertical-align: middle;\n",
       "    }\n",
       "\n",
       "    .dataframe tbody tr th {\n",
       "        vertical-align: top;\n",
       "    }\n",
       "\n",
       "    .dataframe thead th {\n",
       "        text-align: right;\n",
       "    }\n",
       "</style>\n",
       "<table border=\"1\" class=\"dataframe\">\n",
       "  <thead>\n",
       "    <tr style=\"text-align: right;\">\n",
       "      <th></th>\n",
       "      <th>Dong Twitter</th>\n",
       "      <th>Dong Twitter (Paper)</th>\n",
       "      <th>Election Twitter</th>\n",
       "      <th>Election Twitter (Paper)</th>\n",
       "    </tr>\n",
       "  </thead>\n",
       "  <tbody>\n",
       "    <tr>\n",
       "      <th>TDParse</th>\n",
       "      <td>66.89</td>\n",
       "      <td>68.4</td>\n",
       "      <td>39.27</td>\n",
       "      <td>46.09</td>\n",
       "    </tr>\n",
       "    <tr>\n",
       "      <th>TDParse Minus</th>\n",
       "      <td>58.80</td>\n",
       "      <td>57.0</td>\n",
       "      <td>37.27</td>\n",
       "      <td>42.71</td>\n",
       "    </tr>\n",
       "    <tr>\n",
       "      <th>TDParsePlus</th>\n",
       "      <td>68.10</td>\n",
       "      <td>70.3</td>\n",
       "      <td>41.70</td>\n",
       "      <td>0.00</td>\n",
       "    </tr>\n",
       "  </tbody>\n",
       "</table>\n",
       "</div>"
      ],
      "text/plain": [
       "               Dong Twitter  Dong Twitter (Paper)  Election Twitter  \\\n",
       "TDParse               66.89                  68.4             39.27   \n",
       "TDParse Minus         58.80                  57.0             37.27   \n",
       "TDParsePlus           68.10                  70.3             41.70   \n",
       "\n",
       "               Election Twitter (Paper)  \n",
       "TDParse                           46.09  \n",
       "TDParse Minus                     42.71  \n",
       "TDParsePlus                        0.00  "
      ]
     },
     "execution_count": 42,
     "metadata": {},
     "output_type": "execute_result"
    }
   ],
   "source": [
    "all_f1_scores = {**dataset_model_f1, **paper_f1}\n",
    "all_f1_scores = (pd.DataFrame(all_f1_scores) * 100).round(2)\n",
    "all_f1_scores"
   ]
  },
  {
   "cell_type": "markdown",
   "metadata": {},
   "source": [
    "#### Accuracy"
   ]
  },
  {
   "cell_type": "code",
   "execution_count": 43,
   "metadata": {},
   "outputs": [
    {
     "data": {
      "text/html": [
       "<div>\n",
       "<style scoped>\n",
       "    .dataframe tbody tr th:only-of-type {\n",
       "        vertical-align: middle;\n",
       "    }\n",
       "\n",
       "    .dataframe tbody tr th {\n",
       "        vertical-align: top;\n",
       "    }\n",
       "\n",
       "    .dataframe thead th {\n",
       "        text-align: right;\n",
       "    }\n",
       "</style>\n",
       "<table border=\"1\" class=\"dataframe\">\n",
       "  <thead>\n",
       "    <tr style=\"text-align: right;\">\n",
       "      <th></th>\n",
       "      <th>Dong Twitter</th>\n",
       "      <th>Dong Twitter (Paper)</th>\n",
       "      <th>Election Twitter</th>\n",
       "      <th>Election Twitter (Paper)</th>\n",
       "    </tr>\n",
       "  </thead>\n",
       "  <tbody>\n",
       "    <tr>\n",
       "      <th>TDParse</th>\n",
       "      <td>69.65</td>\n",
       "      <td>71.0</td>\n",
       "      <td>55.02</td>\n",
       "      <td>56.45</td>\n",
       "    </tr>\n",
       "    <tr>\n",
       "      <th>TDParse Minus</th>\n",
       "      <td>63.15</td>\n",
       "      <td>61.7</td>\n",
       "      <td>52.85</td>\n",
       "      <td>52.53</td>\n",
       "    </tr>\n",
       "    <tr>\n",
       "      <th>TDParsePlus</th>\n",
       "      <td>70.52</td>\n",
       "      <td>72.5</td>\n",
       "      <td>55.06</td>\n",
       "      <td>0.00</td>\n",
       "    </tr>\n",
       "  </tbody>\n",
       "</table>\n",
       "</div>"
      ],
      "text/plain": [
       "               Dong Twitter  Dong Twitter (Paper)  Election Twitter  \\\n",
       "TDParse               69.65                  71.0             55.02   \n",
       "TDParse Minus         63.15                  61.7             52.85   \n",
       "TDParsePlus           70.52                  72.5             55.06   \n",
       "\n",
       "               Election Twitter (Paper)  \n",
       "TDParse                           56.45  \n",
       "TDParse Minus                     52.53  \n",
       "TDParsePlus                        0.00  "
      ]
     },
     "execution_count": 43,
     "metadata": {},
     "output_type": "execute_result"
    }
   ],
   "source": [
    "all_acc_scores = {**dataset_model_acc, **paper_acc}\n",
    "all_acc_scores = (pd.DataFrame(all_acc_scores) * 100).round(2)\n",
    "all_acc_scores"
   ]
  },
  {
   "cell_type": "markdown",
   "metadata": {},
   "source": [
    "From what we can see above we are very close to the scores from the original paper and further more we have the same method ordering as in **TDParse+** > **TDParse** > **TDParse-**. Therefore we have successfully reproduced this paper.\n",
    "\n",
    "The election dataset for the Macro F1 metric is by far the worse score differences. This could be due to the fact that we could not process the whole dataset and are therefore 688 examples/samples smaller than the dataset qouted in the original paper.\n",
    "\n",
    "Finally you can see that **TDParse+** was not run on the Election dataset from the original paper but we can show here how it is still better than the non-sentiment version **TDParse** showing that using a range of sentiment lexicons is still effective in the Political domain as well as the more general domain of the Dong et al. dataset.\n",
    "\n",
    "## The affect of scaling\n",
    "\n",
    "Above we have shown how we have successfully reproduced the methods described in the paper. We are now going to show the one parameter we found that causes a large difference in the result, of which the parameter was not mentioned in the original paper.\n",
    "\n",
    "We show below the affect of scaling the word vectors on the different methods. To scale we use [MinMax](http://scikit-learn.org/stable/modules/generated/sklearn.preprocessing.MinMaxScaler.html) scaling. They did use a different Support Vector Machine Library [LibLinear](https://www.csie.ntu.edu.tw/~cjlin/liblinear/) however we actually use the [Scikit-learn interface](http://scikit-learn.org/stable/modules/generated/sklearn.svm.LinearSVC.html) to this library. Even though in the [Practical guide to LibLinear](https://www.csie.ntu.edu.tw/~cjlin/papers/guide/guide.pdf) it states that you should scale and they also show this in their [README.md](https://github.com/bluemonk482/tdparse) of their code base but not in the paper. We show the importance of scaling."
   ]
  },
  {
   "cell_type": "code",
   "execution_count": 46,
   "metadata": {},
   "outputs": [],
   "source": [
    "def model_eval(model, X_train, y_train, X_test, y_test):\n",
    "    model.fit(X_train, y_train)\n",
    "    predictions = model.predict(X_test)\n",
    "    acc = accuracy_score(y_test, predictions)\n",
    "    f1 = f1_score(y_test, predictions, average='macro')\n",
    "    return acc, f1\n",
    "\n",
    "\n",
    "scale_dataset_model_acc = defaultdict(lambda: dict())\n",
    "scale_dataset_model_f1 = defaultdict(lambda: dict())\n",
    "\n",
    "dong_params = (dong_best_c, [dong_w2v, dong_sswe])\n",
    "elec_params = (elec_best_c, [elec_w2v, elec_sswe])\n",
    "dataset_data_params = {'Dong Twitter': ((dong_train, dong_test), dong_params),\n",
    "                       'Election Twitter': ((election_train, election_test), elec_params)}\n",
    "for dataset_name, data_params in dataset_data_params.items():\n",
    "    data, params = data_params\n",
    "    train, test = data\n",
    "    X_train, y_train = train.data(), train.sentiment_data()\n",
    "    X_test, y_test = test.data(), test.sentiment_data()\n",
    "    \n",
    "    c_values, dataset_word_embeddings = params\n",
    "    model_instances_params = []\n",
    "    for model in models:\n",
    "        best_c = float(c_values[model.name()])\n",
    "        # The main difference to the code from 4 cells \n",
    "        # back is the `scale` parameter in the model instances\n",
    "        if model == TDParsePlus:\n",
    "            model_instance = model(dataset_word_embeddings,\n",
    "                                   dependency_parsers.tweebo,\n",
    "                                   C=best_c, scale=None,\n",
    "                                   senti_lexicon = all_three_low)\n",
    "        else:\n",
    "            model_instance = model(dataset_word_embeddings, \n",
    "                                   dependency_parsers.tweebo,\n",
    "                                   C=best_c, scale=None)\n",
    "        func_params = (X_train, y_train, X_test, y_test) \n",
    "        model_instances_params.append((model_instance, *func_params))\n",
    "    with Pool(3) as pool:\n",
    "        model_acc_f1 = pool.starmap(model_eval, model_instances_params)\n",
    "    for i, model in enumerate(models):\n",
    "        acc, f1 = model_acc_f1[i]\n",
    "        scale_dataset_name = f'{dataset_name} (not scaled)'\n",
    "        scale_dataset_model_acc[scale_dataset_name][model.name()] = acc\n",
    "        scale_dataset_model_f1[scale_dataset_name][model.name()] = f1"
   ]
  },
  {
   "cell_type": "markdown",
   "metadata": {},
   "source": [
    "#### Macro F1"
   ]
  },
  {
   "cell_type": "code",
   "execution_count": 56,
   "metadata": {},
   "outputs": [
    {
     "data": {
      "text/html": [
       "<div>\n",
       "<style scoped>\n",
       "    .dataframe tbody tr th:only-of-type {\n",
       "        vertical-align: middle;\n",
       "    }\n",
       "\n",
       "    .dataframe tbody tr th {\n",
       "        vertical-align: top;\n",
       "    }\n",
       "\n",
       "    .dataframe thead th {\n",
       "        text-align: right;\n",
       "    }\n",
       "</style>\n",
       "<table border=\"1\" class=\"dataframe\">\n",
       "  <thead>\n",
       "    <tr style=\"text-align: right;\">\n",
       "      <th></th>\n",
       "      <th>Dong Twitter</th>\n",
       "      <th>Dong Twitter (Paper)</th>\n",
       "      <th>Dong Twitter (not scaled)</th>\n",
       "      <th>Election Twitter</th>\n",
       "      <th>Election Twitter (Paper)</th>\n",
       "      <th>Election Twitter (not scaled)</th>\n",
       "    </tr>\n",
       "  </thead>\n",
       "  <tbody>\n",
       "    <tr>\n",
       "      <th>TDParse</th>\n",
       "      <td>66.89</td>\n",
       "      <td>68.4</td>\n",
       "      <td>51.33</td>\n",
       "      <td>39.27</td>\n",
       "      <td>46.09</td>\n",
       "      <td>38.73</td>\n",
       "    </tr>\n",
       "    <tr>\n",
       "      <th>TDParse Minus</th>\n",
       "      <td>58.80</td>\n",
       "      <td>57.0</td>\n",
       "      <td>55.32</td>\n",
       "      <td>37.27</td>\n",
       "      <td>42.71</td>\n",
       "      <td>41.75</td>\n",
       "    </tr>\n",
       "    <tr>\n",
       "      <th>TDParsePlus</th>\n",
       "      <td>68.10</td>\n",
       "      <td>70.3</td>\n",
       "      <td>40.90</td>\n",
       "      <td>41.70</td>\n",
       "      <td>0.00</td>\n",
       "      <td>33.39</td>\n",
       "    </tr>\n",
       "  </tbody>\n",
       "</table>\n",
       "</div>"
      ],
      "text/plain": [
       "               Dong Twitter  Dong Twitter (Paper)  Dong Twitter (not scaled)  \\\n",
       "TDParse               66.89                  68.4                      51.33   \n",
       "TDParse Minus         58.80                  57.0                      55.32   \n",
       "TDParsePlus           68.10                  70.3                      40.90   \n",
       "\n",
       "               Election Twitter  Election Twitter (Paper)  \\\n",
       "TDParse                   39.27                     46.09   \n",
       "TDParse Minus             37.27                     42.71   \n",
       "TDParsePlus               41.70                      0.00   \n",
       "\n",
       "               Election Twitter (not scaled)  \n",
       "TDParse                                38.73  \n",
       "TDParse Minus                          41.75  \n",
       "TDParsePlus                            33.39  "
      ]
     },
     "execution_count": 56,
     "metadata": {},
     "output_type": "execute_result"
    }
   ],
   "source": [
    "all_scale_f1_scores = {**dataset_model_f1, **scale_dataset_model_f1, \n",
    "                       **paper_f1}\n",
    "all_scale_f1_scores = (pd.DataFrame(all_scale_f1_scores) * 100).round(2)\n",
    "all_scale_f1_scores"
   ]
  },
  {
   "cell_type": "markdown",
   "metadata": {},
   "source": [
    "#### Accuracy"
   ]
  },
  {
   "cell_type": "code",
   "execution_count": 55,
   "metadata": {},
   "outputs": [
    {
     "data": {
      "text/html": [
       "<div>\n",
       "<style scoped>\n",
       "    .dataframe tbody tr th:only-of-type {\n",
       "        vertical-align: middle;\n",
       "    }\n",
       "\n",
       "    .dataframe tbody tr th {\n",
       "        vertical-align: top;\n",
       "    }\n",
       "\n",
       "    .dataframe thead th {\n",
       "        text-align: right;\n",
       "    }\n",
       "</style>\n",
       "<table border=\"1\" class=\"dataframe\">\n",
       "  <thead>\n",
       "    <tr style=\"text-align: right;\">\n",
       "      <th></th>\n",
       "      <th>Dong Twitter</th>\n",
       "      <th>Dong Twitter (Paper)</th>\n",
       "      <th>Dong Twitter (not scaled)</th>\n",
       "      <th>Election Twitter</th>\n",
       "      <th>Election Twitter (Paper)</th>\n",
       "      <th>Election Twitter (not scaled)</th>\n",
       "    </tr>\n",
       "  </thead>\n",
       "  <tbody>\n",
       "    <tr>\n",
       "      <th>TDParse</th>\n",
       "      <td>69.65</td>\n",
       "      <td>71.0</td>\n",
       "      <td>55.06</td>\n",
       "      <td>55.02</td>\n",
       "      <td>56.45</td>\n",
       "      <td>46.56</td>\n",
       "    </tr>\n",
       "    <tr>\n",
       "      <th>TDParse Minus</th>\n",
       "      <td>63.15</td>\n",
       "      <td>61.7</td>\n",
       "      <td>58.82</td>\n",
       "      <td>52.85</td>\n",
       "      <td>52.53</td>\n",
       "      <td>52.30</td>\n",
       "    </tr>\n",
       "    <tr>\n",
       "      <th>TDParsePlus</th>\n",
       "      <td>70.52</td>\n",
       "      <td>72.5</td>\n",
       "      <td>42.49</td>\n",
       "      <td>55.06</td>\n",
       "      <td>0.00</td>\n",
       "      <td>37.27</td>\n",
       "    </tr>\n",
       "  </tbody>\n",
       "</table>\n",
       "</div>"
      ],
      "text/plain": [
       "               Dong Twitter  Dong Twitter (Paper)  Dong Twitter (not scaled)  \\\n",
       "TDParse               69.65                  71.0                      55.06   \n",
       "TDParse Minus         63.15                  61.7                      58.82   \n",
       "TDParsePlus           70.52                  72.5                      42.49   \n",
       "\n",
       "               Election Twitter  Election Twitter (Paper)  \\\n",
       "TDParse                   55.02                     56.45   \n",
       "TDParse Minus             52.85                     52.53   \n",
       "TDParsePlus               55.06                      0.00   \n",
       "\n",
       "               Election Twitter (not scaled)  \n",
       "TDParse                                46.56  \n",
       "TDParse Minus                          52.30  \n",
       "TDParsePlus                            37.27  "
      ]
     },
     "execution_count": 55,
     "metadata": {},
     "output_type": "execute_result"
    }
   ],
   "source": [
    "all_scale_acc_scores = {**dataset_model_acc, **scale_dataset_model_acc,\n",
    "                        **paper_acc}\n",
    "all_scale_acc_scores = (pd.DataFrame(all_scale_acc_scores) * 100).round(2)\n",
    "all_scale_acc_scores"
   ]
  },
  {
   "cell_type": "markdown",
   "metadata": {},
   "source": [
    "We are now going to plot the data as it is shown in the paper"
   ]
  },
  {
   "cell_type": "code",
   "execution_count": 67,
   "metadata": {},
   "outputs": [],
   "source": [
    "def seaborn_data(dataset_model_metric, metric_name):\n",
    "    seaborn_data = {'Model': [], 'Legend': [], f'{metric_name}': [],\n",
    "                    'Dataset': []}\n",
    "    for dataset_name, model_metric in dataset_model_metric.items():\n",
    "        num_models = len(model_metric)\n",
    "        if 'scaled' in dataset_name:\n",
    "            seaborn_data['Legend'].extend(['Not Scaled'] * num_models)\n",
    "        elif 'Paper' in dataset_name:\n",
    "            seaborn_data['Legend'].extend(['Original'] * num_models)\n",
    "        else:\n",
    "            seaborn_data['Legend'].extend(['Reproduction'] * num_models)\n",
    "        if 'Dong' in dataset_name:\n",
    "            seaborn_data['Dataset'].extend(['Dong Twitter'] * num_models)\n",
    "        else:\n",
    "            seaborn_data['Dataset'].extend(['Election Twitter'] * num_models)\n",
    "        for model, metric in model_metric.items():\n",
    "            seaborn_data['Model'].append(model)\n",
    "            seaborn_data[f'{metric_name}'].append(round(metric * 100, 2))\n",
    "    return seaborn_data\n",
    "\n",
    "\n",
    "# Need to transform the data into something that suits seaborn better\n",
    "acc_data = {**dataset_model_acc, **scale_dataset_model_acc, **paper_acc}\n",
    "acc_data = pd.DataFrame(seaborn_data(acc_data, 'Accuracy'))\n",
    "f1_data = {**dataset_model_f1, **scale_dataset_model_f1, **paper_f1}\n",
    "f1_data = pd.DataFrame(seaborn_data(f1_data, 'F1'))"
   ]
  },
  {
   "cell_type": "code",
   "execution_count": 93,
   "metadata": {},
   "outputs": [
    {
     "data": {
      "image/png": "[encoded data removed]",
      "text/plain": [
       "<matplotlib.figure.Figure at 0x7f6eef980c88>"
      ]
     },
     "metadata": {},
     "output_type": "display_data"
    },
    {
     "data": {
      "image/png": "[encoded data removed]",
      "text/plain": [
       "<matplotlib.figure.Figure at 0x7f6ef04eccc0>"
      ]
     },
     "metadata": {},
     "output_type": "display_data"
    }
   ],
   "source": [
    "mpl.rcParams['axes.labelsize'] = 'large'\n",
    "\n",
    "for metric_name, metric_data in [('Accuracy', acc_data), ('F1', f1_data)]:\n",
    "    \n",
    "    fig, axes = plt.subplots(1, 2, figsize=(12,6))\n",
    "    for i, dataset_name in enumerate(['Dong Twitter', 'Election Twitter']):\n",
    "        data = metric_data[acc_data['Dataset'] == dataset_name]\n",
    "        ax = sns.barplot(x=\"Model\", y=f'{metric_name}', hue=\"Legend\", \n",
    "                         data=data, \n",
    "                         palette=sns.color_palette(\"colorblind\"),\n",
    "                         ax=axes[i])\n",
    "        ax.set_title(f'{dataset_name}')\n",
    "        leg = ax.legend()\n",
    "        if dataset_name == 'Election Twitter':\n",
    "            if metric_name == 'F1':\n",
    "                ax.set(ylim=(30, 48))\n",
    "            else:\n",
    "                ax.set(ylim=(35, 58))\n",
    "            leg.remove()\n",
    "        else:\n",
    "            if metric_name == 'F1':\n",
    "                ax.set(ylim=(40, 72))\n",
    "            else:\n",
    "                ax.set(ylim=(40, 75))\n",
    "        ax.set_ylabel(f'{metric_name} %')"
   ]
  },
  {
   "cell_type": "markdown",
   "metadata": {},
   "source": [
    "As you can see not scaling the data (in this can we used [MinMax](http://scikit-learn.org/stable/modules/generated/sklearn.preprocessing.MinMaxScaler.html) scaling) affects the results quite a lot, more so for the models that contain more parameters e.g. TDParse+.\n",
    "\n",
    "This scaling effect can also be seen in the Target Dependent models of which that notebook can be found [here](./target_model.ipynb)"
   ]
  },
  {
   "cell_type": "code",
   "execution_count": null,
   "metadata": {},
   "outputs": [],
   "source": []
  }
 ],
 "metadata": {
  "kernelspec": {
   "display_name": "Python 3",
   "language": "python",
   "name": "python3"
  },
  "language_info": {
   "codemirror_mode": {
    "name": "ipython",
    "version": 3
   },
   "file_extension": ".py",
   "mimetype": "text/x-python",
   "name": "python",
   "nbconvert_exporter": "python",
   "pygments_lexer": "ipython3",
   "version": "3.6.0"
  }
 },
 "nbformat": 4,
 "nbformat_minor": 2
}
