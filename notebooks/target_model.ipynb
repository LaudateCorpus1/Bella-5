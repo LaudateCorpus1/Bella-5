{
 "cells": [
  {
   "cell_type": "code",
   "execution_count": 100,
   "metadata": {},
   "outputs": [],
   "source": [
    "from collections import defaultdict\n",
    "import math\n",
    "from textwrap import fill\n",
    "def warn(*args, **kwargs):\n",
    "    pass\n",
    "import warnings\n",
    "warnings.warn = warn\n",
    "\n",
    "from pathlib import Path\n",
    "import pandas as pd\n",
    "import numpy as np\n",
    "from sklearn.metrics import accuracy_score, f1_score\n",
    "from sklearn.model_selection import GridSearchCV, StratifiedKFold\n",
    "import seaborn as sns\n",
    "import matplotlib.pyplot as plt\n",
    "%matplotlib inline  \n",
    "\n",
    "# Models\n",
    "from bella.models.target import TargetInd, TargetDepMinus, TargetDep, TargetDepPlus\n",
    "# Word Vector methods\n",
    "from bella.word_vectors import VoVectors, SSWE\n",
    "from bella.helper import read_config\n",
    "# Sentiment lexicons\n",
    "from bella import lexicons\n",
    "# Get the data\n",
    "from bella.parsers import dong, semeval_14\n",
    "# Tokenisers\n",
    "from bella.tokenisers import ark_twokenize, stanford"
   ]
  },
  {
   "cell_type": "markdown",
   "metadata": {},
   "source": [
    "# Target dependent models\n",
    "This notebook shows how to use the target dependent models and comparing the results of our implementation to the one in the original [paper](https://www.ijcai.org/Proceedings/15/Papers/194.pdf). We also show the problems we encountered when attempting to reproduce the methods from the description in the paper and the affects of not stating certain processes.\n",
    "\n",
    "The paper had four different models:\n",
    "1. **Target-Ind** -- Uses only the full Tweet as context.\n",
    "2. **Target-Dep-** -- Uses the left and right context of the target word as well as the target word as context.\n",
    "3. **Target-Dep** -- Uses all of the above contexts.\n",
    "4. **Target-Dep+** -- Uses all of the above as well as including two additional left and right contexts which ignores all words in the contexts unless they are part of the given sentiment lexicon (or any lexicon).\n",
    "\n",
    "The above models correspond to the following classes in our implementation:\n",
    "1. [TargetInd](../tdparse/models/target.py), 2. [TargetDepC](../tdparse/models/target.py), 3. [TargetDep](../tdparse/models/target.py), 4. [TargetDepSent](../tdparse/models/target.py)\n",
    "\n",
    "All of the results shown below are 5 fold cross validation over the training data of [Dong et al.](https://aclanthology.coli.uni-saarland.de/papers/P14-2009/p14-2009) or where appropriate on the test data as reported in the paper."
   ]
  },
  {
   "cell_type": "code",
   "execution_count": 119,
   "metadata": {},
   "outputs": [],
   "source": [
    "##\n",
    "#  ADD YOUR CONFIG FILE PATH HERE \n",
    "##\n",
    "CONFIG_FP = Path('..', 'config.yaml')\n",
    "\n",
    "# Load the training data\n",
    "dong_train = dong(read_config('dong_twit_train_data', CONFIG_FP))\n",
    "dong_test = dong(read_config('dong_twit_test_data', CONFIG_FP))\n",
    "train_data = dong_train.data()\n",
    "test_data = dong_test.data()\n",
    "train_y = dong_train.sentiment_data()\n",
    "test_y = dong_test.sentiment_data()\n",
    "\n",
    "# Get word vectors\n",
    "# To reduce the number of vectors we load we only load\n",
    "# the words that are within the train and test set\n",
    "# which is still as fair in practice as loading the whole\n",
    "# word vectors\n",
    "train_words = dong_train.word_list(ark_twokenize)\n",
    "test_words = dong_test.word_list(ark_twokenize)\n",
    "all_words = list(set(train_words + test_words))\n",
    "w2v = VoVectors(filter_words=all_words)\n",
    "sswe = SSWE(filter_words=all_words)\n",
    "\n",
    "###\n",
    "#    Set here the number of cpus to use for all of the\n",
    "#    grid searching\n",
    "###\n",
    "\n",
    "n_cpus = 15"
   ]
  },
  {
   "cell_type": "markdown",
   "metadata": {},
   "source": [
    "# Comparing the three base models\n",
    "\n",
    "In the paper the base models (target-ind, target-dep- and target-dep) using the the word2vec word vectors were compared after they found the best C-values therefore we are going to use the C-Values stated in the paper to compare our results to theres. **random_state** is used here to ensure that the results are reproducible, it stops the data from randomly shuffling."
   ]
  },
  {
   "cell_type": "code",
   "execution_count": 3,
   "metadata": {},
   "outputs": [],
   "source": [
    "from typing import Tuple, List, Union\n",
    "\n",
    "def add_row(data: dict, row_name: str, df: pd.DataFrame = pd.DataFrame()) -> pd.DataFrame:\n",
    "    data_df = pd.DataFrame(data, index=[row_name])\n",
    "    return pd.concat((df, data_df))\n",
    "\n",
    "def get_score(grid_scores: pd.DataFrame, \n",
    "              associated_param: Union[None, str] = None) -> Union[List[float], List[Tuple[float, str]]]:\n",
    "    '''\n",
    "    :param grid_scors: Return of the :py:func:`grid_search_model`\n",
    "    :param associated_param: Optional. The name of the parameter you want to \n",
    "                             associate to the score. E.g. lexicon as you have\n",
    "                             grid searched over different lexicons and you \n",
    "                             want the return to be associated with the \n",
    "                             lexicon name e.g. [(0.68, 'MPQA), (0.70, 'NRC')]\n",
    "    :return: A list of test scores from the grid search and if associated_param\n",
    "             is not None a list of scores and parameter name.\n",
    "    '''\n",
    "    extracted_scores = grid_scores['mean_test_score'].astype(float).round(4) * 100\n",
    "    extracted_scores = extracted_scores.tolist()\n",
    "    if associated_param is not None:\n",
    "        for column in grid_scores.columns:\n",
    "            if associated_param in column:\n",
    "                associated_param = column\n",
    "                break\n",
    "        else:\n",
    "            raise Exception(f'Could not find the associated column using {associated_param}')\n",
    "        associated_param = grid_scores[associated_param].apply(lambda x: str(x)).tolist()\n",
    "        extracted_scores = list(zip(extracted_scores, associated_param))\n",
    "    return extracted_scores\n",
    "    \n",
    "        \n",
    "\n",
    "def grid_search_model(model, X, y, **kwargs) -> pd.DataFrame:\n",
    "    stratified_folds = StratifiedKFold(5)\n",
    "    # If no kwargs then we grid search over the model\n",
    "    # parameters already set.\n",
    "    grid_params = model.get_cv_parameters(**kwargs)\n",
    "    # model attribute is the sklearn pipeline model that represents\n",
    "    # the machine learning model\n",
    "    grid_model = GridSearchCV(model.pipeline(), grid_params, cv=stratified_folds, n_jobs=n_cpus)\n",
    "    grid_model.fit(X, y)\n",
    "    grid_results = pd.DataFrame(grid_model.cv_results_)\n",
    "    return grid_results"
   ]
  },
  {
   "cell_type": "code",
   "execution_count": 4,
   "metadata": {},
   "outputs": [],
   "source": [
    "# Instances of the models\n",
    "target_ind = TargetInd([w2v])\n",
    "target_dep_minus = TargetDepMinus([w2v])\n",
    "target_dep = TargetDep([w2v])"
   ]
  },
  {
   "cell_type": "code",
   "execution_count": 5,
   "metadata": {},
   "outputs": [],
   "source": [
    "# Grid search each of the models and compare to paper results\n",
    "all_results = {}\n",
    "for model in [target_ind, target_dep_minus, target_dep]:\n",
    "    all_results[str(model)] = get_score(grid_search_model(model, train_data, train_y, word_vectors=[[w2v]]))"
   ]
  },
  {
   "cell_type": "code",
   "execution_count": 6,
   "metadata": {},
   "outputs": [
    {
     "data": {
      "text/html": [
       "<div>\n",
       "<style scoped>\n",
       "    .dataframe tbody tr th:only-of-type {\n",
       "        vertical-align: middle;\n",
       "    }\n",
       "\n",
       "    .dataframe tbody tr th {\n",
       "        vertical-align: top;\n",
       "    }\n",
       "\n",
       "    .dataframe thead th {\n",
       "        text-align: right;\n",
       "    }\n",
       "</style>\n",
       "<table border=\"1\" class=\"dataframe\">\n",
       "  <thead>\n",
       "    <tr style=\"text-align: right;\">\n",
       "      <th></th>\n",
       "      <th>Target Dependent</th>\n",
       "      <th>Target Dependent Minus</th>\n",
       "      <th>Target Indepdent</th>\n",
       "    </tr>\n",
       "  </thead>\n",
       "  <tbody>\n",
       "    <tr>\n",
       "      <th>Our Results</th>\n",
       "      <td>66.81</td>\n",
       "      <td>65.67</td>\n",
       "      <td>60.98</td>\n",
       "    </tr>\n",
       "    <tr>\n",
       "      <th>Paper Results</th>\n",
       "      <td>65.72</td>\n",
       "      <td>65.38</td>\n",
       "      <td>59.22</td>\n",
       "    </tr>\n",
       "  </tbody>\n",
       "</table>\n",
       "</div>"
      ],
      "text/plain": [
       "               Target Dependent  Target Dependent Minus  Target Indepdent\n",
       "Our Results               66.81                   65.67             60.98\n",
       "Paper Results             65.72                   65.38             59.22"
      ]
     },
     "execution_count": 6,
     "metadata": {},
     "output_type": "execute_result"
    }
   ],
   "source": [
    "base_results = add_row(all_results, 'Our Results')\n",
    "base_results = add_row({'Target Dependent': 65.72, 'Target Dependent Minus': 65.38, \n",
    "                        'Target Indepdent': 59.22}, 'Paper Results', base_results)\n",
    "base_results"
   ]
  },
  {
   "cell_type": "markdown",
   "metadata": {},
   "source": [
    "As you can see from the results above that we get similar results and the order of the models stays the same."
   ]
  },
  {
   "cell_type": "markdown",
   "metadata": {},
   "source": [
    "# Target-Dep+ and sentiment lexicons\n",
    "The **Target-Dep+** model uses sentiment lexicons to remove words therefore in this section we compare:\n",
    "1. The statistics on the sentiment lexicons\n",
    "2. The results of the model using different lexicons\n",
    "\n",
    "All the experiments below again use the Word2Vec word embeddings.\n",
    "## Sentiment lexicon statistics\n",
    "\n",
    "Below we present the size of the sentiment lexicon once it has been processed and the size of that lexicon stated in the paper."
   ]
  },
  {
   "cell_type": "code",
   "execution_count": 7,
   "metadata": {},
   "outputs": [],
   "source": [
    "# Load the sentiment lexicons and remove all words that are not associated\n",
    "# to the Positive or Negative class.\n",
    "\n",
    "lexicon_data = read_config('lexicons', CONFIG_FP)\n",
    "hu_liu_fp = Path(lexicon_data['hu_liu'])\n",
    "mpqa_fp = Path(lexicon_data['mpqa'])\n",
    "nrc_fp = Path(lexicon_data['nrc_emotion'])\n",
    "\n",
    "subset_cats = {'positive', 'negative'}\n",
    "mpqa = lexicons.Mpqa(mpqa_fp, subset_cats=subset_cats)\n",
    "nrc = lexicons.NRC(nrc_fp, subset_cats=subset_cats)\n",
    "hu_liu = lexicons.HuLiu(hu_liu_fp, subset_cats=subset_cats)\n",
    "# Combine sentiment lexicons - Removes words that contradict each other.\n",
    "mpqa_huliu = lexicons.Lexicon.combine_lexicons(mpqa, hu_liu)\n",
    "all_three = lexicons.Lexicon.combine_lexicons(mpqa_huliu, nrc)\n",
    "\n",
    "# Load the sentiment lexicons but lower case all the words\n",
    "mpqa_low = lexicons.Mpqa(mpqa_fp, subset_cats=subset_cats, lower=True)\n",
    "nrc_low = lexicons.NRC(nrc_fp, subset_cats=subset_cats, lower=True)\n",
    "hu_liu_low = lexicons.HuLiu(hu_liu_fp, subset_cats=subset_cats, lower=True)\n",
    "mpqa_huliu_low = lexicons.Lexicon.combine_lexicons(mpqa_low, hu_liu_low)\n",
    "all_three_low = lexicons.Lexicon.combine_lexicons(mpqa_huliu_low, nrc_low)"
   ]
  },
  {
   "cell_type": "code",
   "execution_count": 8,
   "metadata": {},
   "outputs": [
    {
     "data": {
      "text/html": [
       "<div>\n",
       "<style scoped>\n",
       "    .dataframe tbody tr th:only-of-type {\n",
       "        vertical-align: middle;\n",
       "    }\n",
       "\n",
       "    .dataframe tbody tr th {\n",
       "        vertical-align: top;\n",
       "    }\n",
       "\n",
       "    .dataframe thead th {\n",
       "        text-align: right;\n",
       "    }\n",
       "</style>\n",
       "<table border=\"1\" class=\"dataframe\">\n",
       "  <thead>\n",
       "    <tr style=\"text-align: right;\">\n",
       "      <th></th>\n",
       "      <th>Paper No. Positive</th>\n",
       "      <th>Ours No. Positive</th>\n",
       "      <th>Ours low No. Positive</th>\n",
       "      <th>Paper No. Negative</th>\n",
       "      <th>Ours No. Negative</th>\n",
       "      <th>Ours low No. Negative</th>\n",
       "    </tr>\n",
       "  </thead>\n",
       "  <tbody>\n",
       "    <tr>\n",
       "      <th>MPQA</th>\n",
       "      <td>2289</td>\n",
       "      <td>2298</td>\n",
       "      <td>2298</td>\n",
       "      <td>4114</td>\n",
       "      <td>4148</td>\n",
       "      <td>4148</td>\n",
       "    </tr>\n",
       "    <tr>\n",
       "      <th>Hu Liu</th>\n",
       "      <td>2003</td>\n",
       "      <td>2003</td>\n",
       "      <td>2003</td>\n",
       "      <td>4780</td>\n",
       "      <td>4780</td>\n",
       "      <td>4780</td>\n",
       "    </tr>\n",
       "    <tr>\n",
       "      <th>NRC</th>\n",
       "      <td>2231</td>\n",
       "      <td>2231</td>\n",
       "      <td>2231</td>\n",
       "      <td>3243</td>\n",
       "      <td>3243</td>\n",
       "      <td>3243</td>\n",
       "    </tr>\n",
       "    <tr>\n",
       "      <th>MPQA &amp; Hu Liu</th>\n",
       "      <td>2706</td>\n",
       "      <td>2725</td>\n",
       "      <td>2725</td>\n",
       "      <td>5069</td>\n",
       "      <td>5080</td>\n",
       "      <td>5076</td>\n",
       "    </tr>\n",
       "    <tr>\n",
       "      <th>All Three</th>\n",
       "      <td>3940</td>\n",
       "      <td>4016</td>\n",
       "      <td>4016</td>\n",
       "      <td>6490</td>\n",
       "      <td>6530</td>\n",
       "      <td>6526</td>\n",
       "    </tr>\n",
       "  </tbody>\n",
       "</table>\n",
       "</div>"
      ],
      "text/plain": [
       "               Paper No. Positive  Ours No. Positive  Ours low No. Positive  \\\n",
       "MPQA                         2289               2298                   2298   \n",
       "Hu Liu                       2003               2003                   2003   \n",
       "NRC                          2231               2231                   2231   \n",
       "MPQA & Hu Liu                2706               2725                   2725   \n",
       "All Three                    3940               4016                   4016   \n",
       "\n",
       "               Paper No. Negative  Ours No. Negative  Ours low No. Negative  \n",
       "MPQA                         4114               4148                   4148  \n",
       "Hu Liu                       4780               4780                   4780  \n",
       "NRC                          3243               3243                   3243  \n",
       "MPQA & Hu Liu                5069               5080                   5076  \n",
       "All Three                    6490               6530                   6526  "
      ]
     },
     "execution_count": 8,
     "metadata": {},
     "output_type": "execute_result"
    }
   ],
   "source": [
    "def filter_cat(lexicon, filter_cat):\n",
    "    return [word for word, cat in lexicon.lexicon if cat == filter_cat]\n",
    "\n",
    "all_lexicons = [mpqa, hu_liu, nrc, mpqa_huliu, all_three]\n",
    "num_positive = [len(filter_cat(lexicon, 'positive')) for lexicon in all_lexicons]\n",
    "num_negative = [len(filter_cat(lexicon, 'negative')) for lexicon in all_lexicons]\n",
    "\n",
    "all_lexicons_low = [mpqa_low, hu_liu_low, nrc_low, mpqa_huliu_low, all_three_low]\n",
    "num_positive_low = [len(filter_cat(lexicon, 'positive')) for lexicon in all_lexicons_low]\n",
    "num_negative_low = [len(filter_cat(lexicon, 'negative')) for lexicon in all_lexicons_low]\n",
    "\n",
    "columns = ['Paper No. Positive', 'Ours No. Positive', 'Ours low No. Positive', \n",
    "           'Paper No. Negative', 'Ours No. Negative', 'Ours low No. Negative']\n",
    "index = ['MPQA', 'Hu Liu', 'NRC', 'MPQA & Hu Liu', 'All Three']\n",
    "data = [[2289, 2003, 2231, 2706, 3940], num_positive, num_positive_low, \n",
    "        [4114, 4780, 3243, 5069, 6490], num_negative, num_negative_low]\n",
    "senti_info = dict(list(zip(columns, data)))\n",
    "pd.DataFrame(senti_info, columns=columns, index=index)"
   ]
  },
  {
   "cell_type": "code",
   "execution_count": 9,
   "metadata": {},
   "outputs": [
    {
     "data": {
      "text/plain": [
       "['anti-Israeli', 'anti-US', 'anti-American', 'anti-Semites']"
      ]
     },
     "execution_count": 9,
     "metadata": {},
     "output_type": "execute_result"
    }
   ],
   "source": [
    "# Words that are shared between the MPQA and Hu Liu sentiment lexicons\n",
    "[word for word, cat in list(set(mpqa_huliu.lexicon).difference(set(mpqa_huliu_low.lexicon))) if cat == 'negative']"
   ]
  },
  {
   "cell_type": "markdown",
   "metadata": {},
   "source": [
    "As you can see we never agree on the number of words within the lexicons. We get the lexicons from the sources described in the paper. Intrestingly if we do not lower case the words in the lexicons we won't see the same similarities between the MPQA and Hu Liu sentiment lexicon as they both share the words above just the Hu Liu lexicon has the words lower cased already where as MPQA has not.\n",
    "\n",
    "## Showing the affect of using different sentiment lexicons in the Target-Dep+ model"
   ]
  },
  {
   "cell_type": "code",
   "execution_count": 10,
   "metadata": {},
   "outputs": [],
   "source": [
    "# Instances of the model\n",
    "target_dep_plus = TargetDepPlus([w2v], hu_liu_low)"
   ]
  },
  {
   "cell_type": "code",
   "execution_count": 11,
   "metadata": {},
   "outputs": [],
   "source": [
    "senti_scores = grid_search_model(target_dep_plus, train_data, train_y, \n",
    "                                 word_vectors=[[w2v]], senti_lexicon=all_lexicons_low)\n",
    "senti_scores = get_score(senti_scores, 'lexicon')\n",
    "senti_scores = {f'Target Dependent Plus {name}': score for score, name in senti_scores}\n",
    "senti_scores['Target Dependent'] = all_results['Target Dependent']"
   ]
  },
  {
   "cell_type": "code",
   "execution_count": 12,
   "metadata": {},
   "outputs": [
    {
     "data": {
      "text/html": [
       "<div>\n",
       "<style scoped>\n",
       "    .dataframe tbody tr th:only-of-type {\n",
       "        vertical-align: middle;\n",
       "    }\n",
       "\n",
       "    .dataframe tbody tr th {\n",
       "        vertical-align: top;\n",
       "    }\n",
       "\n",
       "    .dataframe thead th {\n",
       "        text-align: right;\n",
       "    }\n",
       "</style>\n",
       "<table border=\"1\" class=\"dataframe\">\n",
       "  <thead>\n",
       "    <tr style=\"text-align: right;\">\n",
       "      <th></th>\n",
       "      <th>Target Dependent</th>\n",
       "      <th>Target Dependent Plus HuLiu</th>\n",
       "      <th>Target Dependent Plus Mpqa</th>\n",
       "      <th>Target Dependent Plus Mpqa HuLiu</th>\n",
       "      <th>Target Dependent Plus Mpqa HuLiu NRC</th>\n",
       "      <th>Target Dependent Plus NRC</th>\n",
       "    </tr>\n",
       "  </thead>\n",
       "  <tbody>\n",
       "    <tr>\n",
       "      <th>Our Results</th>\n",
       "      <td>66.81</td>\n",
       "      <td>68.61</td>\n",
       "      <td>66.81</td>\n",
       "      <td>68.37</td>\n",
       "      <td>68.23</td>\n",
       "      <td>67.13</td>\n",
       "    </tr>\n",
       "    <tr>\n",
       "      <th>Paper Results</th>\n",
       "      <td>65.72</td>\n",
       "      <td>67.24</td>\n",
       "      <td>65.56</td>\n",
       "      <td>67.40</td>\n",
       "      <td>67.30</td>\n",
       "      <td>66.05</td>\n",
       "    </tr>\n",
       "  </tbody>\n",
       "</table>\n",
       "</div>"
      ],
      "text/plain": [
       "               Target Dependent  Target Dependent Plus HuLiu  \\\n",
       "Our Results               66.81                        68.61   \n",
       "Paper Results             65.72                        67.24   \n",
       "\n",
       "               Target Dependent Plus Mpqa  Target Dependent Plus Mpqa HuLiu  \\\n",
       "Our Results                         66.81                             68.37   \n",
       "Paper Results                       65.56                             67.40   \n",
       "\n",
       "               Target Dependent Plus Mpqa HuLiu NRC  Target Dependent Plus NRC  \n",
       "Our Results                                   68.23                      67.13  \n",
       "Paper Results                                 67.30                      66.05  "
      ]
     },
     "execution_count": 12,
     "metadata": {},
     "output_type": "execute_result"
    }
   ],
   "source": [
    "senti_results = add_row(senti_scores, 'Our Results')\n",
    "paper_results = [('NRC', 66.05), ('HuLiu', 67.24), ('Mpqa', 65.56), \n",
    "                 ('Mpqa HuLiu', 67.40), ('Mpqa HuLiu NRC', 67.30)]\n",
    "paper_results = {f'Target Dependent Plus {name}': score for name, score in paper_results}\n",
    "paper_results['Target Dependent'] = 65.72\n",
    "senti_results = add_row(paper_results, 'Paper Results', senti_results)\n",
    "senti_results"
   ]
  },
  {
   "cell_type": "markdown",
   "metadata": {},
   "source": [
    "From the results shown above we get different results but the results also have a different rank between the lexicons as in the best lexicon was **Hu and Liu** where as the papers original results show the combination of **MPQA and Hu & Liu** was the best. However in general we can see that it is better to use a sentiment lexicon than not. Also that both our implmentation and the original paper show that the best single sentiment lexicon is **Hu & Liu** and that using **all three** sentiment lexicons is worse than using **MPQA and Hu & Liu**.\n",
    "\n",
    "# Showing the affect of the different word vectors\n",
    "As presented in the paper they show the affect of using different word vectors accross the four models using the best sentiment lexicon for the sentiment dependent model. As we had different result for the sentiment lexicons compared to the original paper we will show the results of using **Hu & Liu** lexicon and using the combination of **Hu & Liu and MPQA**. The word vectors used are the following:\n",
    "1. Word2Vec - Which has been used throughout the previous experiments (100 dimensions)\n",
    "2. SSWE - Sentiment Specific Word Embeddings (50 dimensions)\n",
    "3. Concatenation of Word2vec and SSWE (150 dimensions)"
   ]
  },
  {
   "cell_type": "code",
   "execution_count": 13,
   "metadata": {},
   "outputs": [],
   "source": [
    "vectors = [[w2v], [sswe], [w2v, sswe]]\n",
    "vector_results = {}\n",
    "# Non Sentiment lexicon models\n",
    "for model in [target_ind, target_dep_minus, target_dep]:\n",
    "    vector_result = grid_search_model(model, train_data, train_y, word_vectors=vectors)\n",
    "    vector_result = get_score(vector_result, 'vector')\n",
    "    vector_results[str(model)] = vector_result\n",
    "# Sentiment lexicon model, requires a lexicon when grid searching\n",
    "for model, lexicon in [(target_dep_plus, hu_liu_low), (target_dep_plus, mpqa_huliu_low)]:\n",
    "    vector_result = grid_search_model(model, train_data, train_y, \n",
    "                                      word_vectors=vectors, senti_lexicon=[lexicon])\n",
    "    vector_result = get_score(vector_result, 'vector')\n",
    "    vector_results[f'{str(model)} {str(lexicon)}'] = vector_result"
   ]
  },
  {
   "cell_type": "code",
   "execution_count": 55,
   "metadata": {},
   "outputs": [
    {
     "data": {
      "text/plain": [
       "<matplotlib.legend.Legend at 0x7fbae46b5cc0>"
      ]
     },
     "execution_count": 55,
     "metadata": {},
     "output_type": "execute_result"
    },
    {
     "data": {
      "image/png": "[encoded data removed]",
      "text/plain": [
       "<matplotlib.figure.Figure at 0x7fbae4827ac8>"
      ]
     },
     "metadata": {},
     "output_type": "display_data"
    }
   ],
   "source": [
    "model_score_vectors = [(fill(model,10), score, vectors.strip('[]')) for model, score_vectors in vector_results.items() \n",
    "                       for score, vectors in score_vectors]\n",
    "vector_graph = defaultdict(list)\n",
    "for model_name, score, vectors in model_score_vectors:\n",
    "    vector_graph['Model'].append(model_name)\n",
    "    vector_graph['Accuracy %'].append(score)\n",
    "    vector_graph['Word Vector(s)'].append(vectors)\n",
    "ax = sns.barplot(x=\"Model\", y=\"Accuracy %\", hue=\"Word Vector(s)\", \n",
    "                 data=pd.DataFrame(vector_graph), palette=sns.color_palette(\"colorblind\"))\n",
    "# Sets the hatching\n",
    "hatches = ['+', '\\\\', '-']\n",
    "hatch_num = 0\n",
    "for i in range(len(model_score_vectors)):\n",
    "    ax.patches[i].set_hatch(hatches[hatch_num])\n",
    "    if ((i + 1) % 5) == 0:\n",
    "        hatch_num += 1\n",
    "ax.set(ylim=(58, 70))\n",
    "ax.figure.set_size_inches(8,5)\n",
    "ax.legend()"
   ]
  },
  {
   "cell_type": "markdown",
   "metadata": {},
   "source": [
    "As we can see from the results above using the combination of the two word vectors is best accross all models which is the finding in the original paper. Also that **Target-Dep+** > **Target-Dep** > **Target-Dep-** > **Target-Ind** which is also what the original paper found. However un-like the original paper we found that using the *SSWE* word vectors to be generally worse than using the *Word2Vec* vectors showing that using just semantic information is more important than using a vector model that was created by reducing the semantic and sentiment loss. Also we found that using **Hu & Liu** lexicon to be better than any other and any other combination of lexicons compared to the original paper which found using the combination of **MPQA and Hu & Liu** to be the best. Finally we can see that we got similar results to the original.\n",
    "\n",
    "# Results of the final models on the test data\n",
    "Here we show the affect of the **Target-Ind**, **Target-Dep**, and **Target-Dep+** models on the test data as reported in the paper where each model uses the best parameters found in the previous tests.\n",
    "\n",
    "For the **Target-Dep+** we show using **Hu & Liu** lexicon and using the combination of **MPQA and Hu & Liu** for direct comparison with the original paper as they found using **MPQA and Hu & Liu** to be better than **Hu & Liu** however we did not."
   ]
  },
  {
   "cell_type": "code",
   "execution_count": 64,
   "metadata": {},
   "outputs": [],
   "source": [
    "# Change the default model parameters to use a combination of word 2 vec and SSWE\n",
    "# vectors\n",
    "for model in [target_ind, target_dep, target_dep_minus]:\n",
    "        model.model_parameters = {'word_vectors': [w2v, sswe]}\n",
    "# Create two new sentiment model version: 1. using Hu Liu 2. using MPQA and Hu Liu\n",
    "target_sent_hu = TargetDepPlus(word_vectors=[w2v, sswe], senti_lexicon=hu_liu_low)\n",
    "target_sent_mphu = TargetDepPlus(word_vectors=[w2v, sswe], senti_lexicon=mpqa_huliu_low)"
   ]
  },
  {
   "cell_type": "code",
   "execution_count": 69,
   "metadata": {},
   "outputs": [],
   "source": [
    "# Fit and predict with the models\n",
    "test_acc = {}\n",
    "test_f1 = {}\n",
    "for model in [target_ind, target_dep, target_dep_minus, target_sent_hu, target_sent_mphu]:\n",
    "    model.fit(train_data, train_y)\n",
    "    predictions = model.predict(test_data)\n",
    "    if model == target_sent_hu:\n",
    "        model_name = f'{str(model)} Hu Liu'\n",
    "    elif model == target_sent_mphu:\n",
    "        model_name = f'{str(model)} MPQA Hu Liu'\n",
    "    else:\n",
    "        model_name = f'{str(model)}'\n",
    "    test_acc[model_name] = round(accuracy_score(test_y, predictions) * 100, 4)\n",
    "    test_f1[model_name] = round(f1_score(test_y, predictions, average='macro') * 100, 4)"
   ]
  },
  {
   "cell_type": "code",
   "execution_count": 74,
   "metadata": {},
   "outputs": [
    {
     "data": {
      "text/html": [
       "<div>\n",
       "<style scoped>\n",
       "    .dataframe tbody tr th:only-of-type {\n",
       "        vertical-align: middle;\n",
       "    }\n",
       "\n",
       "    .dataframe tbody tr th {\n",
       "        vertical-align: top;\n",
       "    }\n",
       "\n",
       "    .dataframe thead th {\n",
       "        text-align: right;\n",
       "    }\n",
       "</style>\n",
       "<table border=\"1\" class=\"dataframe\">\n",
       "  <thead>\n",
       "    <tr style=\"text-align: right;\">\n",
       "      <th></th>\n",
       "      <th>Target Dependent</th>\n",
       "      <th>Target Dependent Minus</th>\n",
       "      <th>Target Dependent Plus Hu Liu</th>\n",
       "      <th>Target Dependent Plus MPQA Hu Liu</th>\n",
       "      <th>Target Indepdent</th>\n",
       "    </tr>\n",
       "  </thead>\n",
       "  <tbody>\n",
       "    <tr>\n",
       "      <th>Our Test Accuracy</th>\n",
       "      <td>69.65</td>\n",
       "      <td>69.36</td>\n",
       "      <td>70.81</td>\n",
       "      <td>69.94</td>\n",
       "      <td>66.04</td>\n",
       "    </tr>\n",
       "    <tr>\n",
       "      <th>Paper Test Accuracy</th>\n",
       "      <td>69.70</td>\n",
       "      <td>NaN</td>\n",
       "      <td>NaN</td>\n",
       "      <td>71.10</td>\n",
       "      <td>67.30</td>\n",
       "    </tr>\n",
       "    <tr>\n",
       "      <th>Our Test Macro F1</th>\n",
       "      <td>66.69</td>\n",
       "      <td>66.53</td>\n",
       "      <td>68.68</td>\n",
       "      <td>67.58</td>\n",
       "      <td>61.95</td>\n",
       "    </tr>\n",
       "    <tr>\n",
       "      <th>Paper Test Macro F1</th>\n",
       "      <td>68.00</td>\n",
       "      <td>NaN</td>\n",
       "      <td>NaN</td>\n",
       "      <td>69.90</td>\n",
       "      <td>66.40</td>\n",
       "    </tr>\n",
       "  </tbody>\n",
       "</table>\n",
       "</div>"
      ],
      "text/plain": [
       "                     Target Dependent  Target Dependent Minus  \\\n",
       "Our Test Accuracy               69.65                   69.36   \n",
       "Paper Test Accuracy             69.70                     NaN   \n",
       "Our Test Macro F1               66.69                   66.53   \n",
       "Paper Test Macro F1             68.00                     NaN   \n",
       "\n",
       "                     Target Dependent Plus Hu Liu  \\\n",
       "Our Test Accuracy                           70.81   \n",
       "Paper Test Accuracy                           NaN   \n",
       "Our Test Macro F1                           68.68   \n",
       "Paper Test Macro F1                           NaN   \n",
       "\n",
       "                     Target Dependent Plus MPQA Hu Liu  Target Indepdent  \n",
       "Our Test Accuracy                                69.94             66.04  \n",
       "Paper Test Accuracy                              71.10             67.30  \n",
       "Our Test Macro F1                                67.58             61.95  \n",
       "Paper Test Macro F1                              69.90             66.40  "
      ]
     },
     "execution_count": 74,
     "metadata": {},
     "output_type": "execute_result"
    }
   ],
   "source": [
    "test_results = add_row(test_acc, 'Our Test Accuracy')\n",
    "paper_acc = {'Target Dependent': 69.7, 'Target Indepdent': 67.3, 'Target Dependent Plus MPQA Hu Liu': 71.1}\n",
    "test_results = add_row(paper_acc, 'Paper Test Accuracy', test_results)\n",
    "test_results = add_row(test_f1, 'Our Test Macro F1', test_results)\n",
    "paper_f1 = {'Target Dependent': 68.0, 'Target Indepdent': 66.4, 'Target Dependent Plus MPQA Hu Liu': 69.9}\n",
    "test_results = add_row(paper_f1, 'Paper Test Macro F1', test_results)\n",
    "test_results.astype(float).round(2)"
   ]
  },
  {
   "cell_type": "markdown",
   "metadata": {},
   "source": [
    "As you can see from above our results are very close to those reported in the paper and are identical for **Target-Dep** model. Also as you can see that our results using the **Hu Liu** lexicon are much better and are closer to the results of **Target-Dep+** in the original paper "
   ]
  },
  {
   "cell_type": "markdown",
   "metadata": {},
   "source": [
    "# Fine Tuning\n",
    "We want to see if instead of using the C-Value reported in the paper, we fine tune our-seleves the C-Value where we use the combination of **Word2Vec** and **SSWE** embeddings which was never done/shown in the paper to see if we get values closer to those reported in the paper. We only do this for the best model (**Target-Dep+ (Hu Liu)**)\n",
    "\n",
    "The C-Values to be selected from range from $2^{-15}$ to $2^1$ these values were chosen due to the suggestion in the Lib Linear SVM [guide](https://csie.ntu.edu.tw/~cjlin/papers/guide/guide.pdf), we also include the C value 1 as it is the default value for the SKlearn C value."
   ]
  },
  {
   "cell_type": "code",
   "execution_count": 103,
   "metadata": {},
   "outputs": [],
   "source": [
    "c_values = [1] # include the default sklearn C Value\n",
    "for c in range(-15, 3, 2):\n",
    "    c_values.append(math.pow(2, c))\n",
    "fine_values = grid_search_model(target_dep_plus, train_data, train_y, \n",
    "                                word_vectors=[[w2v, sswe]], senti_lexicon=[hu_liu_low], C=c_values)\n",
    "best_c = sorted(get_score(fine_values, 'C'), key=lambda x: x[0])[-1][1] \n",
    "best_c"
   ]
  },
  {
   "cell_type": "code",
   "execution_count": 120,
   "metadata": {},
   "outputs": [],
   "source": [
    "target_dep_plus = TargetDepPlus(word_vectors=[w2v, sswe], senti_lexicon=hu_liu_low, C=float(best_c))\n",
    "target_dep_plus.fit(train_data, train_y)\n",
    "fine_predictions = target_dep_plus.predict(test_data)\n",
    "model_name = f'{str(target_dep_plus)} Hu Liu'\n",
    "fine_acc = {model_name: accuracy_score(test_y, fine_predictions) * 100}\n",
    "fine_f1 = {model_name: f1_score(test_y, fine_predictions, average='macro') * 100}"
   ]
  },
  {
   "cell_type": "code",
   "execution_count": 132,
   "metadata": {},
   "outputs": [
    {
     "data": {
      "text/html": [
       "<div>\n",
       "<style scoped>\n",
       "    .dataframe tbody tr th:only-of-type {\n",
       "        vertical-align: middle;\n",
       "    }\n",
       "\n",
       "    .dataframe tbody tr th {\n",
       "        vertical-align: top;\n",
       "    }\n",
       "\n",
       "    .dataframe thead th {\n",
       "        text-align: right;\n",
       "    }\n",
       "</style>\n",
       "<table border=\"1\" class=\"dataframe\">\n",
       "  <thead>\n",
       "    <tr style=\"text-align: right;\">\n",
       "      <th></th>\n",
       "      <th>Target Dependent Plus Hu Liu</th>\n",
       "    </tr>\n",
       "  </thead>\n",
       "  <tbody>\n",
       "    <tr>\n",
       "      <th>Tunned Result Accuracy</th>\n",
       "      <td>0.709538</td>\n",
       "    </tr>\n",
       "    <tr>\n",
       "      <th>Our Result Accuracy</th>\n",
       "      <td>70.809200</td>\n",
       "    </tr>\n",
       "    <tr>\n",
       "      <th>Tunned Result F1</th>\n",
       "      <td>0.687001</td>\n",
       "    </tr>\n",
       "    <tr>\n",
       "      <th>Our Result F1</th>\n",
       "      <td>68.681900</td>\n",
       "    </tr>\n",
       "  </tbody>\n",
       "</table>\n",
       "</div>"
      ],
      "text/plain": [
       "                        Target Dependent Plus Hu Liu\n",
       "Tunned Result Accuracy                      0.709538\n",
       "Our Result Accuracy                        70.809200\n",
       "Tunned Result F1                            0.687001\n",
       "Our Result F1                              68.681900"
      ]
     },
     "execution_count": 132,
     "metadata": {},
     "output_type": "execute_result"
    }
   ],
   "source": [
    "fine_tune_results = add_row(fine_acc, 'Tunned Result Accuracy')\n",
    "fine_tune_results = add_row({model_name: test_acc[model_name]}, 'Our Result Accuracy', fine_tune_results)\n",
    "fine_tune_results = add_row(fine_f1, 'Tunned Result F1', fine_tune_results)\n",
    "fine_tune_results = add_row({model_name: test_f1[model_name]}, 'Our Result F1', fine_tune_results)\n",
    "fine_tune_results"
   ]
  },
  {
   "cell_type": "markdown",
   "metadata": {},
   "source": [
    "As you can see there is slight improvement but only marginal showing that optimising for different word vectors is not required. This mainly shows that there is probably no correlation between different word vectors and the C value.\n",
    "\n",
    "# Problems encountered when reproducing results\n",
    "When reproducing these methods the main error we came across was not **scaling/normalising** the features before inputting them into the SVM classifier.\n",
    "\n",
    "This was not stated in the paper. We show the affects of not doing this to the results accross all of the different models:"
   ]
  },
  {
   "cell_type": "code",
   "execution_count": 75,
   "metadata": {},
   "outputs": [],
   "source": [
    "# Change the default model parameters to use a combination of word 2 vec and SSWE\n",
    "# vectors\n",
    "for model in [target_ind, target_dep, target_dep_minus]:\n",
    "        model.model_parameters = {'word_vectors': [w2v, sswe], 'scale': None}\n",
    "# Create two new sentiment model version: 1. using Hu Liu 2. using MPQA and Hu Liu\n",
    "target_sent_hu = TargetDepPlus(word_vectors=[w2v, sswe], senti_lexicon=hu_liu_low, scale=None)\n",
    "target_sent_mphu = TargetDepPlus(word_vectors=[w2v, sswe], senti_lexicon=mpqa_huliu_low, scale=None)\n",
    "\n",
    "scale_f1 = {}\n",
    "scale_acc = {}\n",
    "for model in [target_ind, target_dep, target_dep_minus, target_sent_hu, target_sent_mphu]:\n",
    "    model.fit(train_data, train_y)\n",
    "    predictions = model.predict(test_data)\n",
    "    if model == target_sent_hu:\n",
    "        model_name = f'{str(model)} Hu Liu'\n",
    "    elif model == target_sent_mphu:\n",
    "        model_name = f'{str(model)} MPQA Hu Liu'\n",
    "    else:\n",
    "        model_name = f'{str(model)}'\n",
    "    scale_acc[model_name] = round(accuracy_score(test_y, predictions) * 100, 4)\n",
    "    scale_f1[model_name] = round(f1_score(test_y, predictions, average='macro') * 100, 4)"
   ]
  },
  {
   "cell_type": "code",
   "execution_count": 131,
   "metadata": {},
   "outputs": [
    {
     "data": {
      "image/png": "[encoded data removed]",
      "text/plain": [
       "<matplotlib.figure.Figure at 0x7fbadb3bd198>"
      ]
     },
     "metadata": {},
     "output_type": "display_data"
    }
   ],
   "source": [
    "f, axes = plt.subplots(1, 2)\n",
    "acc_data = (scale_acc, test_acc, paper_acc, 'Accuracy %')\n",
    "f1_data = (scale_f1, test_f1, paper_f1, 'F1 %')\n",
    "for i, data in enumerate([acc_data, f1_data]):\n",
    "    scale_score, test_score, paper_score, score_name = data\n",
    "    legend_data = [('Not Scaled', scale_score), ('Reproduction', test_score), ('Original', paper_score)]\n",
    "    scale_model_score = [(scale, fill(model,10), score) for scale, model_score in legend_data \n",
    "                         for model, score in model_score.items()]\n",
    "    scale_graph = defaultdict(list)\n",
    "    for scale, model, score in scale_model_score:\n",
    "        scale_graph['Scale'].append(scale)\n",
    "        scale_graph['Model'].append(model)\n",
    "        scale_graph[score_name].append(score)\n",
    "    ax = sns.barplot(x=\"Model\", y=score_name, hue=\"Scale\", \n",
    "                     data=pd.DataFrame(scale_graph), \n",
    "                     palette=sns.color_palette(\"colorblind\"),\n",
    "                     ax=axes[i])\n",
    "    # Sets the hatching\n",
    "    hatches = ['+', '\\\\', '-']\n",
    "    hatch_num = 0\n",
    "    for i in range(15):\n",
    "        ax.patches[i].set_hatch(hatches[hatch_num])\n",
    "        if ((i + 1) % 5) == 0:\n",
    "            hatch_num += 1\n",
    "    ax.set(ylim=(40, 75))\n",
    "    ax.figure.set_size_inches(16,5)\n",
    "    ax.legend()"
   ]
  },
  {
   "cell_type": "markdown",
   "metadata": {},
   "source": [
    "As you can see not scaling the data (in this can we used [MinMax](http://scikit-learn.org/stable/modules/generated/sklearn.preprocessing.MinMaxScaler.html) scaling) affects the results quite a lot more so for the models that contain more parameters. This was not stated in the paper. They did use a different Support Vector Machine Library [LibLinear](https://www.csie.ntu.edu.tw/~cjlin/liblinear/) however we actually use this library just using the [Scikit-learn interface](http://scikit-learn.org/stable/modules/generated/sklearn.svm.LinearSVC.html). Even though in the [Practical guide to LibLinear](https://www.csie.ntu.edu.tw/~cjlin/papers/guide/guide.pdf) it states that you should scale and shows the importance like we have done above but this is not stated or reiterated in the paper.\n",
    "\n",
    "This scaling effect can also be seen in the TDParse models of which that notebook can be found [here](./target_model.ipynb)"
   ]
  },
  {
   "cell_type": "code",
   "execution_count": null,
   "metadata": {},
   "outputs": [],
   "source": []
  }
 ],
 "metadata": {
  "kernelspec": {
   "display_name": "Python 3",
   "language": "python",
   "name": "python3"
  },
  "language_info": {
   "codemirror_mode": {
    "name": "ipython",
    "version": 3
   },
   "file_extension": ".py",
   "mimetype": "text/x-python",
   "name": "python",
   "nbconvert_exporter": "python",
   "pygments_lexer": "ipython3",
   "version": "3.6.0"
  }
 },
 "nbformat": 4,
 "nbformat_minor": 2
}
